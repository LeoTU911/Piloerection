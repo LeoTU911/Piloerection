{
  "nbformat": 4,
  "nbformat_minor": 0,
  "metadata": {
    "colab": {
      "provenance": [],
      "gpuType": "T4",
      "authorship_tag": "ABX9TyO8cB/J0kudIgQmeZSTiY3Y",
      "include_colab_link": true
    },
    "kernelspec": {
      "name": "python3",
      "display_name": "Python 3"
    },
    "language_info": {
      "name": "python"
    },
    "gpuClass": "standard",
    "accelerator": "GPU"
  },
  "cells": [
    {
      "cell_type": "markdown",
      "metadata": {
        "id": "view-in-github",
        "colab_type": "text"
      },
      "source": [
        "<a href=\"https://colab.research.google.com/github/LeoTU911/Piloerection/blob/main/Piloerection_1.0.ipynb\" target=\"_parent\"><img src=\"https://colab.research.google.com/assets/colab-badge.svg\" alt=\"Open In Colab\"/></a>"
      ]
    },
    {
      "cell_type": "code",
      "execution_count": 1,
      "metadata": {
        "colab": {
          "base_uri": "https://localhost:8080/"
        },
        "id": "E7BJm0X0sA8K",
        "outputId": "adbbeb19-e022-4ddd-84dc-49cb4c6095ce"
      },
      "outputs": [
        {
          "output_type": "stream",
          "name": "stdout",
          "text": [
            "Cloning into 'Piloerection'...\n",
            "remote: Enumerating objects: 38, done.\u001b[K\n",
            "remote: Counting objects: 100% (38/38), done.\u001b[K\n",
            "remote: Compressing objects: 100% (36/36), done.\u001b[K\n",
            "remote: Total 38 (delta 10), reused 0 (delta 0), pack-reused 0\u001b[K\n",
            "Unpacking objects: 100% (38/38), 27.24 KiB | 1.60 MiB/s, done.\n",
            "Mounted at /content/drive\n"
          ]
        }
      ],
      "source": [
        "# import code files on Github\n",
        "!git clone https://github.com/LeoTU911/Piloerection\n",
        "\n",
        "# import dataset from google drive\n",
        "from google.colab import drive\n",
        "drive.mount('/content/drive')"
      ]
    },
    {
      "cell_type": "code",
      "source": [
        "!unzip -uq '/content/drive/MyDrive/Piloerection/testData/frameImage.zip' -d '/content/drive/MyDrive/Piloerection/testData'"
      ],
      "metadata": {
        "id": "HDp7TtW-KOeU",
        "colab": {
          "base_uri": "https://localhost:8080/"
        },
        "outputId": "a9b39648-b291-4448-90e6-3b0f386b5031"
      },
      "execution_count": 2,
      "outputs": [
        {
          "output_type": "stream",
          "name": "stdout",
          "text": [
            "replace /content/drive/MyDrive/Piloerection/testData/frameImage/024/0.jpg? [y]es, [n]o, [A]ll, [N]one, [r]ename: A\n"
          ]
        }
      ]
    },
    {
      "cell_type": "code",
      "source": [
        "!python /content/Piloerection/train.py --data-path='/content/drive/MyDrive/Piloerection/frameImage' --num_classes=3 --weights=''"
      ],
      "metadata": {
        "id": "9BgRTOPD4pyt",
        "colab": {
          "base_uri": "https://localhost:8080/"
        },
        "outputId": "c6c3e4a4-3779-47d7-bcea-86aad034014f"
      },
      "execution_count": null,
      "outputs": [
        {
          "output_type": "stream",
          "name": "stdout",
          "text": [
            "2023-04-18 16:23:55.663587: I tensorflow/core/platform/cpu_feature_guard.cc:182] This TensorFlow binary is optimized to use available CPU instructions in performance-critical operations.\n",
            "To enable the following instructions: AVX2 FMA, in other operations, rebuild TensorFlow with the appropriate compiler flags.\n",
            "2023-04-18 16:23:56.513401: W tensorflow/compiler/tf2tensorrt/utils/py_utils.cc:38] TF-TRT Warning: Could not find TensorRT\n",
            "26431 images were found in the dataset.\n",
            "21146 images for training.\n",
            "5285 images for validation.\n",
            "Using 2 dataloader workers every process\n",
            "training head.weight\n",
            "training head.bias\n",
            "[train epoch 0] loss: 0.589, acc: 0.785:  91% 2415/2644 [1:55:51<10:59,  2.88s/it]\n",
            "Traceback (most recent call last):\n",
            "  File \"/usr/local/lib/python3.9/dist-packages/torch/utils/data/dataloader.py\", line 634, in __next__\n",
            "    data = self._next_data()\n",
            "  File \"/usr/local/lib/python3.9/dist-packages/torch/utils/data/dataloader.py\", line 1329, in _next_data\n",
            "    idx, data = self._get_data()\n",
            "  File \"/usr/local/lib/python3.9/dist-packages/torch/utils/data/dataloader.py\", line 1285, in _get_data\n",
            "    success, data = self._try_get_data()\n",
            "  File \"/usr/local/lib/python3.9/dist-packages/torch/utils/data/dataloader.py\", line 1133, in _try_get_data\n",
            "    data = self._data_queue.get(timeout=timeout)\n",
            "  File \"/usr/lib/python3.9/queue.py\", line 180, in get\n",
            "    self.not_empty.wait(remaining)\n",
            "  File \"/usr/lib/python3.9/threading.py\", line 316, in wait\n",
            "    gotit = waiter.acquire(True, timeout)\n",
            "KeyboardInterrupt\n",
            "\n",
            "During handling of the above exception, another exception occurred:\n",
            "\n",
            "Traceback (most recent call last):\n",
            "  File \"/content/Piloerection/train.py\", line 146, in <module>\n",
            "    main(opt)\n",
            "  File \"/content/Piloerection/train.py\", line 99, in main\n",
            "    train_loss, train_acc = train_one_epoch(model=model,\n",
            "  File \"/content/Piloerection/utils.py\", line 135, in train_one_epoch\n",
            "    for step, data in enumerate(data_loader):\n",
            "  File \"/usr/local/lib/python3.9/dist-packages/tqdm/std.py\", line 1178, in __iter__\n",
            "    for obj in iterable:\n",
            "  File \"/usr/local/lib/python3.9/dist-packages/torch/utils/data/dataloader.py\", line 647, in __next__\n",
            "    return data\n",
            "  File \"/usr/local/lib/python3.9/dist-packages/torch/autograd/profiler.py\", line 507, in __exit__\n",
            "    torch.ops.profiler._record_function_exit._RecordFunction(record)\n",
            "KeyboardInterrupt\n",
            "^C\n"
          ]
        }
      ]
    },
    {
      "cell_type": "code",
      "source": [
        "# save the model's weights to google drive\n",
        "#!cp /content/weights/model-9.pth /content/drive/MyDrive/Piloerection\n",
        "#!cp /content/class_indices.json /content/drive/MyDrive/Piloerection\n",
        "!cp -r /content/drive/MyDrive/Piloerection/testData/frameImage/ /content/drive/MyDrive/Piloerection/testData/frameImage_test/"
      ],
      "metadata": {
        "id": "_rrejCiZ2-aP"
      },
      "execution_count": 7,
      "outputs": []
    },
    {
      "cell_type": "code",
      "source": [
        "!python /content/Piloerection/predict.py --data_path='/content/drive/MyDrive/Piloerection/testData/frameImage_test' --num_classes=3 --weights='/content/drive/MyDrive/Piloerection/model-9.pth' --class_indices='/content/drive/MyDrive/Piloerection/class_indices.json' --label_path='/content/drive/MyDrive/Piloerection/testData/file'"
      ],
      "metadata": {
        "id": "PNPNSZWumUn9",
        "colab": {
          "base_uri": "https://localhost:8080/"
        },
        "outputId": "2e8c29b6-be86-4604-dc80-dcf70c9dd8d1"
      },
      "execution_count": 2,
      "outputs": [
        {
          "output_type": "stream",
          "name": "stdout",
          "text": [
            "Current Progress: 1/1876\n",
            "Time Spent of 1 Loop: 6.4372s\n",
            "Estimate Time Left: 03:201:9.833\n",
            "Current Progress: 501/1876\n",
            "Time Spent of 1 Loop: 0.0194s\n",
            "Estimate Time Left: 00:00:26.669\n",
            "Current Progress: 1001/1876\n",
            "Time Spent of 1 Loop: 0.0203s\n",
            "Estimate Time Left: 00:00:17.733\n",
            "Current Progress: 1501/1876\n",
            "Time Spent of 1 Loop: 0.0202s\n",
            "Estimate Time Left: 00:00:7.557\n",
            "Prediction Accuracy of 070_dom arm, Correct:1875, Wrong:1, Accuracy: 0.9995\n",
            "Current Progress: 1/1850\n",
            "Time Spent of 1 Loop: 0.2078s\n",
            "Estimate Time Left: 00:06:24.133\n",
            "Current Progress: 501/1850\n",
            "Time Spent of 1 Loop: 0.0207s\n",
            "Estimate Time Left: 00:00:27.978\n",
            "Current Progress: 1001/1850\n",
            "Time Spent of 1 Loop: 0.0204s\n",
            "Estimate Time Left: 00:00:17.303\n",
            "Current Progress: 1501/1850\n",
            "Time Spent of 1 Loop: 0.0203s\n",
            "Estimate Time Left: 00:00:7.085\n",
            "Prediction Accuracy of 070_dom calf, Correct:1850, Wrong:0, Accuracy: 1.0\n",
            "Current Progress: 1/1850\n",
            "Time Spent of 1 Loop: 0.1967s\n",
            "Estimate Time Left: 00:06:3.699\n",
            "Current Progress: 501/1850\n",
            "Time Spent of 1 Loop: 0.0191s\n",
            "Estimate Time Left: 00:00:25.748\n",
            "Current Progress: 1001/1850\n",
            "Time Spent of 1 Loop: 0.0201s\n",
            "Estimate Time Left: 00:00:17.045\n",
            "Current Progress: 1501/1850\n",
            "Time Spent of 1 Loop: 0.0197s\n",
            "Estimate Time Left: 00:00:6.873\n",
            "Prediction Accuracy of 070_l thigh, Correct:1643, Wrong:207, Accuracy: 0.8881\n",
            "Current Progress: 1/1876\n",
            "Time Spent of 1 Loop: 0.187s\n",
            "Estimate Time Left: 00:05:50.633\n",
            "Current Progress: 501/1876\n",
            "Time Spent of 1 Loop: 0.0207s\n",
            "Estimate Time Left: 00:00:28.517\n",
            "Current Progress: 1001/1876\n",
            "Time Spent of 1 Loop: 0.0206s\n",
            "Estimate Time Left: 00:00:18.026\n",
            "Current Progress: 1501/1876\n",
            "Time Spent of 1 Loop: 0.0207s\n",
            "Estimate Time Left: 00:00:7.776\n",
            "Prediction Accuracy of 070_r thigh, Correct:1873, Wrong:3, Accuracy: 0.9984\n",
            "Current Progress: 1/909\n",
            "Time Spent of 1 Loop: 0.1666s\n",
            "Estimate Time Left: 00:02:31.256\n",
            "Current Progress: 501/909\n",
            "Time Spent of 1 Loop: 0.0201s\n",
            "Estimate Time Left: 00:00:8.209\n",
            "Prediction Accuracy of 024, Correct:894, Wrong:15, Accuracy: 0.9835\n"
          ]
        }
      ]
    }
  ]
}