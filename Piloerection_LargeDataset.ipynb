{
  "nbformat": 4,
  "nbformat_minor": 0,
  "metadata": {
    "colab": {
      "provenance": [],
      "gpuType": "V100",
      "collapsed_sections": [
        "Jm-Zaixlmtpg"
      ],
      "machine_shape": "hm",
      "authorship_tag": "ABX9TyP39tla6vFwayikSNOhLbe0",
      "include_colab_link": true
    },
    "kernelspec": {
      "name": "python3",
      "display_name": "Python 3"
    },
    "language_info": {
      "name": "python"
    },
    "accelerator": "GPU"
  },
  "cells": [
    {
      "cell_type": "markdown",
      "metadata": {
        "id": "view-in-github",
        "colab_type": "text"
      },
      "source": [
        "<a href=\"https://colab.research.google.com/github/LeoTU911/Piloerection/blob/main/Piloerection_LargeDataset.ipynb\" target=\"_parent\"><img src=\"https://colab.research.google.com/assets/colab-badge.svg\" alt=\"Open In Colab\"/></a>"
      ]
    },
    {
      "cell_type": "markdown",
      "source": [
        "1. DATA IMPORT\n",
        "\n",
        "  1.1 Import code from github\n",
        "  \n",
        "  1.2 Mount Google drive and copy the video data of Google drive to Colab local disk"
      ],
      "metadata": {
        "id": "GBHAjCv_AA4E"
      }
    },
    {
      "cell_type": "code",
      "execution_count": 1,
      "metadata": {
        "colab": {
          "base_uri": "https://localhost:8080/"
        },
        "id": "E7BJm0X0sA8K",
        "outputId": "d0356851-29b6-49e9-f998-57bed6d38c07"
      },
      "outputs": [
        {
          "output_type": "stream",
          "name": "stdout",
          "text": [
            "Cloning into 'Piloerection'...\n",
            "remote: Enumerating objects: 78, done.\u001b[K\n",
            "remote: Total 78 (delta 0), reused 0 (delta 0), pack-reused 78\u001b[K\n",
            "Unpacking objects: 100% (78/78), 43.24 KiB | 491.00 KiB/s, done.\n",
            "Mounted at /content/drive\n"
          ]
        }
      ],
      "source": [
        "# import code files on Github\n",
        "!git clone https://github.com/LeoTU911/Piloerection\n",
        "\n",
        "# import dataset from google drive\n",
        "from google.colab import drive\n",
        "drive.mount('/content/drive')"
      ]
    },
    {
      "cell_type": "markdown",
      "source": [
        "Training"
      ],
      "metadata": {
        "id": "8_BMt-JtEocu"
      }
    },
    {
      "cell_type": "code",
      "source": [
        "# create local dir to store data\n",
        "# Training dir structure\n",
        "!mkdir -p /content/data/train/\n",
        "!mkdir -p /content/data/train/video/\n",
        "!mkdir -p /content/data/train/video/1-grid_videos\n",
        "!mkdir -p /content/data/train/video/4-grid_videos\n",
        "!mkdir -p /content/data/train/file/\n",
        "!mkdir -p /content/data/train/file/1-grid/\n",
        "!mkdir -p /content/data/train/file/4-grid/\n",
        "\n",
        "# copy\n",
        "!cp /content/drive/MyDrive/Piloerection/trainData/video/1-grid_videos/* /content/data/train/video/1-grid_videos\n",
        "!cp /content/drive/MyDrive/Piloerection/trainData/video/4-grid_videos/* /content/data/train/video/4-grid_videos\n",
        "!cp /content/drive/MyDrive/Piloerection/trainData/file/1-grid/* /content/data/train/file/1-grid/\n",
        "!cp /content/drive/MyDrive/Piloerection/trainData/file/4-grid/* /content/data/train/file/4-grid/"
      ],
      "metadata": {
        "id": "ajutN8WyAqx_"
      },
      "execution_count": null,
      "outputs": []
    },
    {
      "cell_type": "markdown",
      "source": [
        "Prediction"
      ],
      "metadata": {
        "id": "PxTbPM1kEswN"
      }
    },
    {
      "cell_type": "code",
      "source": [
        "# create local dir to store data\n",
        "# prediction dir structure\n",
        "!mkdir -p /content/data/test/\n",
        "!mkdir -p /content/data/test/video/\n",
        "!mkdir -p /content/data/test/video/1-grid_videos\n",
        "!mkdir -p /content/data/test/video/4-grid_videos\n",
        "!mkdir -p /content/data/test/file/\n",
        "!mkdir -p /content/data/test/file/1-grid/\n",
        "!mkdir -p /content/data/test/file/4-grid/\n",
        "\n",
        "# copy\n",
        "!cp /content/drive/MyDrive/Piloerection/testData/video/1-grid_videos/* /content/data/test/video/1-grid_videos\n",
        "!cp /content/drive/MyDrive/Piloerection/testData/video/4-grid_videos/* /content/data/test/video/4-grid_videos\n",
        "!cp /content/drive/MyDrive/Piloerection/testData/file/1-grid/* /content/data/test/file/1-grid/\n",
        "!cp /content/drive/MyDrive/Piloerection/testData/file/4-grid/* /content/data/test/file/4-grid/"
      ],
      "metadata": {
        "id": "ayUajOXeD4Kq",
        "colab": {
          "base_uri": "https://localhost:8080/"
        },
        "outputId": "1df9a629-47bb-4b5d-ec82-5399800d289c"
      },
      "execution_count": null,
      "outputs": [
        {
          "output_type": "stream",
          "name": "stdout",
          "text": [
            "cp: target '/content/data/train/test/file/1-grid/' is not a directory\n",
            "cp: target '/content/data/train/test/file/4-grid/' is not a directory\n"
          ]
        }
      ]
    },
    {
      "cell_type": "code",
      "source": [
        "!cp /content/drive/MyDrive/Piloerection/testData/file/1-grid/* /content/data/test/file/1-grid/\n",
        "!cp /content/drive/MyDrive/Piloerection/testData/file/4-grid/* /content/data/test/file/4-grid/"
      ],
      "metadata": {
        "id": "dzhRCp0ncrsc"
      },
      "execution_count": null,
      "outputs": []
    },
    {
      "cell_type": "markdown",
      "source": [
        "2. DATA PREPROCESSING PART\n",
        "\n",
        "  2.1 Convert video frame to picture\n",
        "\n",
        "  2.2 Frame image preprocessing: denoising, enhancement, changing image size, classification"
      ],
      "metadata": {
        "id": "XmNGprEdEGtM"
      }
    },
    {
      "cell_type": "markdown",
      "source": [
        "Training"
      ],
      "metadata": {
        "id": "uQk8J2pUFEBd"
      }
    },
    {
      "cell_type": "code",
      "source": [
        "# video to images\n",
        "!python /content/Piloerection/linux/video2Img.py\\\n",
        "  --mode='training'\\\n",
        "  --file_Path='/content/data/train/video/'\n",
        "\n",
        "# images pre-processing\n",
        "!python /content/Piloerection/linux/imgPreprocessing.py\\\n",
        "  --mode='training'\\\n",
        "  --frameFile_Path='/content/data/train/frameImage/'\\\n",
        "  --labelFile_Path='/content/data/train/file/'"
      ],
      "metadata": {
        "id": "t1wY17lFEhuw",
        "colab": {
          "base_uri": "https://localhost:8080/"
        },
        "outputId": "cacb9b48-fe06-4c17-bf6d-1bccbf7b67e4"
      },
      "execution_count": null,
      "outputs": [
        {
          "output_type": "stream",
          "name": "stdout",
          "text": [
            "/content/data/train/video/frameImage created successfully!\n",
            "Videos to be converted:['039.wmv', '036.wmv', '021.wmv', '043.wmv', '054.wmv', '037.wmv', '051.wmv', '032.wmv', '027.wmv', '012.wmv', '046.wmv', '014.wmv', '057.wmv', '028.wmv', '040.wmv', '041.wmv', '024.wmv', '026.wmv', '017.wmv', '034.wmv', '052.wmv', '049.wmv', '022.wmv', '018.wmv', '058.wmv', '023.wmv', '055.wmv', '048.wmv', '035.wmv', '033.wmv', '045.wmv', '038.wmv', '050.wmv', '015.wmv', '056.wmv', '042.wmv', '047.wmv', '044.wmv', '025.wmv', '013.wmv', '019.wmv', '059.wmv', '053.wmv', '030.wmv', '031.wmv', '016.wmv', '029.wmv']\n",
            "039.wmv\n",
            "frame rate is： 1000.0\n",
            "resolution is： 640 x 360\n",
            "49 pictures saved in /content/data/train/video/frameImage\n",
            "036.wmv\n",
            "frame rate is： 1000.0\n",
            "resolution is： 640 x 360\n",
            "47 pictures saved in /content/data/train/video/frameImage\n",
            "021.wmv\n",
            "frame rate is： 1000.0\n",
            "resolution is： 640 x 360\n",
            "60 pictures saved in /content/data/train/video/frameImage\n",
            "043.wmv\n",
            "frame rate is： 1000.0\n",
            "resolution is： 640 x 360\n",
            "25 pictures saved in /content/data/train/video/frameImage\n",
            "054.wmv\n",
            "frame rate is： 1000.0\n",
            "resolution is： 640 x 360\n",
            "30 pictures saved in /content/data/train/video/frameImage\n",
            "037.wmv\n",
            "frame rate is： 1000.0\n",
            "resolution is： 640 x 360\n",
            "28 pictures saved in /content/data/train/video/frameImage\n",
            "051.wmv\n",
            "frame rate is： 1000.0\n",
            "resolution is： 640 x 360\n",
            "26 pictures saved in /content/data/train/video/frameImage\n",
            "032.wmv\n",
            "frame rate is： 1000.0\n",
            "resolution is： 640 x 360\n",
            "33 pictures saved in /content/data/train/video/frameImage\n",
            "027.wmv\n",
            "frame rate is： 1000.0\n",
            "resolution is： 640 x 360\n",
            "39 pictures saved in /content/data/train/video/frameImage\n",
            "012.wmv\n",
            "frame rate is： 1000.0\n",
            "resolution is： 640 x 360\n",
            "59 pictures saved in /content/data/train/video/frameImage\n",
            "046.wmv\n",
            "frame rate is： 1000.0\n",
            "resolution is： 640 x 360\n",
            "38 pictures saved in /content/data/train/video/frameImage\n",
            "014.wmv\n",
            "frame rate is： 1000.0\n",
            "resolution is： 640 x 360\n",
            "60 pictures saved in /content/data/train/video/frameImage\n",
            "057.wmv\n",
            "frame rate is： 1000.0\n",
            "resolution is： 640 x 360\n",
            "33 pictures saved in /content/data/train/video/frameImage\n",
            "028.wmv\n",
            "frame rate is： 1000.0\n",
            "resolution is： 640 x 360\n",
            "26 pictures saved in /content/data/train/video/frameImage\n",
            "040.wmv\n",
            "frame rate is： 1000.0\n",
            "resolution is： 640 x 360\n",
            "41 pictures saved in /content/data/train/video/frameImage\n",
            "041.wmv\n",
            "frame rate is： 1000.0\n",
            "resolution is： 640 x 360\n",
            "42 pictures saved in /content/data/train/video/frameImage\n",
            "024.wmv\n",
            "frame rate is： 1000.0\n",
            "resolution is： 640 x 360\n",
            "27 pictures saved in /content/data/train/video/frameImage\n",
            "026.wmv\n",
            "frame rate is： 1000.0\n",
            "resolution is： 640 x 360\n",
            "23 pictures saved in /content/data/train/video/frameImage\n",
            "017.wmv\n",
            "frame rate is： 1000.0\n",
            "resolution is： 640 x 360\n",
            "43 pictures saved in /content/data/train/video/frameImage\n",
            "034.wmv\n",
            "frame rate is： 1000.0\n",
            "resolution is： 640 x 360\n",
            "48 pictures saved in /content/data/train/video/frameImage\n",
            "052.wmv\n",
            "frame rate is： 1000.0\n",
            "resolution is： 640 x 360\n",
            "28 pictures saved in /content/data/train/video/frameImage\n",
            "049.wmv\n",
            "frame rate is： 1000.0\n",
            "resolution is： 640 x 360\n",
            "42 pictures saved in /content/data/train/video/frameImage\n",
            "022.wmv\n",
            "frame rate is： 1000.0\n",
            "resolution is： 640 x 360\n",
            "25 pictures saved in /content/data/train/video/frameImage\n",
            "018.wmv\n",
            "frame rate is： 1000.0\n",
            "resolution is： 640 x 360\n",
            "54 pictures saved in /content/data/train/video/frameImage\n",
            "058.wmv\n",
            "frame rate is： 1000.0\n",
            "resolution is： 640 x 360\n",
            "35 pictures saved in /content/data/train/video/frameImage\n",
            "023.wmv\n",
            "frame rate is： 1000.0\n",
            "resolution is： 640 x 360\n",
            "16 pictures saved in /content/data/train/video/frameImage\n",
            "055.wmv\n",
            "frame rate is： 1000.0\n",
            "resolution is： 640 x 360\n",
            "39 pictures saved in /content/data/train/video/frameImage\n",
            "048.wmv\n",
            "frame rate is： 1000.0\n",
            "resolution is： 640 x 360\n",
            "45 pictures saved in /content/data/train/video/frameImage\n",
            "035.wmv\n",
            "frame rate is： 1000.0\n",
            "resolution is： 640 x 360\n",
            "47 pictures saved in /content/data/train/video/frameImage\n",
            "033.wmv\n",
            "frame rate is： 1000.0\n",
            "resolution is： 640 x 360\n",
            "25 pictures saved in /content/data/train/video/frameImage\n",
            "045.wmv\n",
            "frame rate is： 1000.0\n",
            "resolution is： 640 x 360\n",
            "29 pictures saved in /content/data/train/video/frameImage\n",
            "038.wmv\n",
            "frame rate is： 1000.0\n",
            "resolution is： 640 x 360\n",
            "46 pictures saved in /content/data/train/video/frameImage\n",
            "050.wmv\n",
            "frame rate is： 1000.0\n",
            "resolution is： 640 x 360\n",
            "42 pictures saved in /content/data/train/video/frameImage\n",
            "015.wmv\n",
            "frame rate is： 1000.0\n",
            "resolution is： 640 x 360\n",
            "62 pictures saved in /content/data/train/video/frameImage\n",
            "056.wmv\n",
            "frame rate is： 1000.0\n",
            "resolution is： 640 x 360\n",
            "35 pictures saved in /content/data/train/video/frameImage\n",
            "042.wmv\n",
            "frame rate is： 1000.0\n",
            "resolution is： 640 x 360\n",
            "45 pictures saved in /content/data/train/video/frameImage\n",
            "047.wmv\n",
            "frame rate is： 1000.0\n",
            "resolution is： 640 x 360\n",
            "44 pictures saved in /content/data/train/video/frameImage\n",
            "044.wmv\n",
            "frame rate is： 1000.0\n",
            "resolution is： 640 x 360\n",
            "31 pictures saved in /content/data/train/video/frameImage\n",
            "025.wmv\n",
            "frame rate is： 1000.0\n",
            "resolution is： 640 x 360\n",
            "27 pictures saved in /content/data/train/video/frameImage\n",
            "013.wmv\n",
            "frame rate is： 1000.0\n",
            "resolution is： 640 x 360\n",
            "63 pictures saved in /content/data/train/video/frameImage\n",
            "019.wmv\n",
            "frame rate is： 1000.0\n",
            "resolution is： 640 x 360\n",
            "58 pictures saved in /content/data/train/video/frameImage\n",
            "059.wmv\n",
            "frame rate is： 1000.0\n",
            "resolution is： 640 x 360\n",
            "47 pictures saved in /content/data/train/video/frameImage\n",
            "053.wmv\n",
            "frame rate is： 1000.0\n",
            "resolution is： 640 x 360\n",
            "56 pictures saved in /content/data/train/video/frameImage\n",
            "030.wmv\n",
            "frame rate is： 1000.0\n",
            "resolution is： 640 x 360\n",
            "47 pictures saved in /content/data/train/video/frameImage\n",
            "031.wmv\n",
            "frame rate is： 1000.0\n",
            "resolution is： 640 x 360\n",
            "57 pictures saved in /content/data/train/video/frameImage\n",
            "016.wmv\n",
            "frame rate is： 1000.0\n",
            "resolution is： 640 x 360\n",
            "51 pictures saved in /content/data/train/video/frameImage\n",
            "029.wmv\n",
            "frame rate is： 1000.0\n",
            "resolution is： 640 x 360\n",
            "28 pictures saved in /content/data/train/video/frameImage\n",
            "Videos to be converted:['064.wmv', '063.wmv', '066.wmv', '068.wmv', '062.wmv', '065.wmv', '067.wmv']\n",
            "064.wmv\n",
            "frame rate is： 1000.0\n",
            "resolution is： 1920 x 1080\n",
            "216 pictures saved in /content/data/train/video/frameImage\n",
            "063.wmv\n",
            "frame rate is： 1000.0\n",
            "resolution is： 1920 x 1080\n",
            "204 pictures saved in /content/data/train/video/frameImage\n",
            "066.wmv\n",
            "frame rate is： 1000.0\n",
            "resolution is： 1920 x 1080\n",
            "268 pictures saved in /content/data/train/video/frameImage\n",
            "068.wmv\n",
            "frame rate is： 1000.0\n",
            "resolution is： 1920 x 1080\n",
            "220 pictures saved in /content/data/train/video/frameImage\n",
            "062.wmv\n",
            "frame rate is： 1000.0\n",
            "resolution is： 1920 x 1080\n",
            "208 pictures saved in /content/data/train/video/frameImage\n",
            "065.wmv\n",
            "frame rate is： 1000.0\n",
            "resolution is： 1920 x 1080\n",
            "220 pictures saved in /content/data/train/video/frameImage\n",
            "067.wmv\n",
            "frame rate is： 1000.0\n",
            "resolution is： 1920 x 1080\n",
            "212 pictures saved in /content/data/train/video/frameImage\n",
            "video to frame image finished, images saved in /content/data/train/video/frameImage, time spent: 10904.1873s\n",
            "python3: can't open file '/content/Piloerection/linux/imgPreprocessing.py': [Errno 2] No such file or directory\n"
          ]
        }
      ]
    },
    {
      "cell_type": "code",
      "source": [
        "import os\n",
        "\n",
        "File_List = os.listdir(\"/content/data/train/video/frameImage\")\n",
        "\n",
        "len(File_List)"
      ],
      "metadata": {
        "colab": {
          "base_uri": "https://localhost:8080/"
        },
        "id": "6ycEzMgaLJZb",
        "outputId": "b8529232-b2da-44c1-8b23-91a778242bfa"
      },
      "execution_count": null,
      "outputs": [
        {
          "output_type": "execute_result",
          "data": {
            "text/plain": [
              "3524"
            ]
          },
          "metadata": {},
          "execution_count": 8
        }
      ]
    },
    {
      "cell_type": "code",
      "source": [
        "# zip file\n",
        "!zip -r '/content/data/train/\"trainFile.zip\"' '/content/data/train/frameImage/*'"
      ],
      "metadata": {
        "id": "6pVVVOxSLH25"
      },
      "execution_count": null,
      "outputs": []
    },
    {
      "cell_type": "markdown",
      "source": [
        "Prediction"
      ],
      "metadata": {
        "id": "_BzArIUKGht1"
      }
    },
    {
      "cell_type": "code",
      "source": [
        "# video to images\n",
        "!python /content/Piloerection/video2Img.py\\\n",
        "  --mode='prediction'\\\n",
        "  --file_Path='/content/data/test/video/'\n",
        "\n",
        "# images pre-processing\n",
        "!python /content/Piloerection/imgPreprocessing.py\\\n",
        "  --mode='prediction'\\\n",
        "  --frameFile_Path='/content/data/test/frameImage/'"
      ],
      "metadata": {
        "id": "nfiMD-NpGjTz"
      },
      "execution_count": null,
      "outputs": []
    },
    {
      "cell_type": "code",
      "source": [
        "# zip file\n",
        "!zip -r '/content/data/test/\"testFile.zip\"' '/content/data/test/frameImage/*'"
      ],
      "metadata": {
        "id": "cg34l6IdLLg8"
      },
      "execution_count": null,
      "outputs": []
    },
    {
      "cell_type": "markdown",
      "source": [
        "### TRAINING PART ###"
      ],
      "metadata": {
        "id": "utcnuhaYtv6Q"
      }
    },
    {
      "cell_type": "code",
      "source": [
        "# Prepare for training\n",
        "# copy files to Colab local disk\n",
        "!mkdir -p /content/data/train/upload/\n",
        "!cp /content/drive/MyDrive/Piloerection/trainData/*.zip /content/data/train/upload/\n",
        "!mkdir -p /content/data/train/frameImage/\n",
        "!mkdir -p /content/data/train/frameImage/large/\n",
        "!mkdir -p /content/data/train/frameImage/small/\n",
        "!mkdir -p /content/data/train/frameImage/no/\n",
        "\n",
        "!unzip -uq '/content/data/train/upload/large.zip' -d '/content/data/train/frameImage/large/'\n",
        "!unzip -uq '/content/data/train/upload/small.zip' -d '/content/data/train/frameImage/small/'\n",
        "!unzip -uq '/content/data/train/upload/no_batch1.zip' -d '/content/data/train/frameImage/no/'\n",
        "!unzip -uq '/content/data/train/upload/no_batch2.zip' -d '/content/data/train/frameImage/no/'\n",
        "!unzip -uq '/content/data/train/upload/no_batch3.zip' -d '/content/data/train/frameImage/no/'\n",
        "!unzip -uq '/content/data/train/upload/no_batch4.zip' -d '/content/data/train/frameImage/no/'\n",
        "!unzip -uq '/content/data/train/upload/no_batch5.zip' -d '/content/data/train/frameImage/no/'"
      ],
      "metadata": {
        "id": "h6iiSO-JwTHV"
      },
      "execution_count": 2,
      "outputs": []
    },
    {
      "cell_type": "code",
      "source": [
        "!python /content/Piloerection/train.py\\\n",
        " --data-path='/content/data/train/frameImage'\\\n",
        " --num_classes=3\\\n",
        " --weights=''\\\n",
        " --epochs=50\\\n",
        " --batch-size=64"
      ],
      "metadata": {
        "id": "9BgRTOPD4pyt",
        "colab": {
          "base_uri": "https://localhost:8080/"
        },
        "outputId": "64677722-7acd-4749-cc31-65285bafcb06"
      },
      "execution_count": 3,
      "outputs": [
        {
          "output_type": "stream",
          "name": "stdout",
          "text": [
            "2023-06-04 12:39:04.698136: I tensorflow/core/platform/cpu_feature_guard.cc:182] This TensorFlow binary is optimized to use available CPU instructions in performance-critical operations.\n",
            "To enable the following instructions: AVX2 FMA, in other operations, rebuild TensorFlow with the appropriate compiler flags.\n",
            "2023-06-04 12:39:05.626952: W tensorflow/compiler/tf2tensorrt/utils/py_utils.cc:38] TF-TRT Warning: Could not find TensorRT\n",
            "126841 images were found in the dataset.\n",
            "101473 images for training.\n",
            "25368 images for validation.\n",
            "Using 4 dataloader workers every process\n",
            "training head.weight\n",
            "training head.bias\n",
            "[train epoch 0] loss: 0.534, acc: 0.830: 100% 1586/1586 [05:22<00:00,  4.91it/s]\n",
            "[valid epoch 0] loss: 0.505, acc: 0.832: 100% 397/397 [01:19<00:00,  5.00it/s]\n",
            "[train epoch 1] loss: 0.516, acc: 0.832: 100% 1586/1586 [05:15<00:00,  5.02it/s]\n",
            "[valid epoch 1] loss: 0.486, acc: 0.832: 100% 397/397 [01:19<00:00,  5.02it/s]\n",
            "[train epoch 2] loss: 0.509, acc: 0.832: 100% 1586/1586 [05:15<00:00,  5.02it/s]\n",
            "[valid epoch 2] loss: 0.476, acc: 0.832: 100% 397/397 [01:19<00:00,  5.01it/s]\n",
            "[train epoch 3] loss: 0.504, acc: 0.832: 100% 1586/1586 [05:15<00:00,  5.02it/s]\n",
            "[valid epoch 3] loss: 0.481, acc: 0.832: 100% 397/397 [01:19<00:00,  5.02it/s]\n",
            "[train epoch 4] loss: 0.501, acc: 0.832: 100% 1586/1586 [05:15<00:00,  5.02it/s]\n",
            "[valid epoch 4] loss: 0.470, acc: 0.836: 100% 397/397 [01:19<00:00,  5.02it/s]\n",
            "[train epoch 5] loss: 0.497, acc: 0.833: 100% 1586/1586 [05:15<00:00,  5.02it/s]\n",
            "[valid epoch 5] loss: 0.478, acc: 0.832: 100% 397/397 [01:19<00:00,  5.02it/s]\n",
            "[train epoch 6] loss: 0.494, acc: 0.833: 100% 1586/1586 [05:15<00:00,  5.02it/s]\n",
            "[valid epoch 6] loss: 0.467, acc: 0.832: 100% 397/397 [01:19<00:00,  5.01it/s]\n",
            "[train epoch 7] loss: 0.494, acc: 0.833: 100% 1586/1586 [05:16<00:00,  5.02it/s]\n",
            "[valid epoch 7] loss: 0.458, acc: 0.832: 100% 397/397 [01:19<00:00,  5.01it/s]\n",
            "[train epoch 8] loss: 0.488, acc: 0.833: 100% 1586/1586 [05:15<00:00,  5.02it/s]\n",
            "[valid epoch 8] loss: 0.459, acc: 0.835: 100% 397/397 [01:19<00:00,  5.00it/s]\n",
            "[train epoch 9] loss: 0.490, acc: 0.833: 100% 1586/1586 [05:15<00:00,  5.02it/s]\n",
            "[valid epoch 9] loss: 0.456, acc: 0.830: 100% 397/397 [01:19<00:00,  5.01it/s]\n",
            "[train epoch 10] loss: 0.488, acc: 0.833: 100% 1586/1586 [05:15<00:00,  5.02it/s]\n",
            "[valid epoch 10] loss: 0.451, acc: 0.836: 100% 397/397 [01:19<00:00,  5.01it/s]\n",
            "[train epoch 11] loss: 0.486, acc: 0.833: 100% 1586/1586 [05:15<00:00,  5.02it/s]\n",
            "[valid epoch 11] loss: 0.454, acc: 0.837: 100% 397/397 [01:19<00:00,  5.01it/s]\n",
            "[train epoch 12] loss: 0.486, acc: 0.833: 100% 1586/1586 [05:15<00:00,  5.02it/s]\n",
            "[valid epoch 12] loss: 0.455, acc: 0.837: 100% 397/397 [01:19<00:00,  5.01it/s]\n",
            "[train epoch 13] loss: 0.484, acc: 0.833: 100% 1586/1586 [05:15<00:00,  5.02it/s]\n",
            "[valid epoch 13] loss: 0.451, acc: 0.832: 100% 397/397 [01:19<00:00,  5.01it/s]\n",
            "[train epoch 14] loss: 0.483, acc: 0.834: 100% 1586/1586 [05:15<00:00,  5.02it/s]\n",
            "[valid epoch 14] loss: 0.449, acc: 0.832: 100% 397/397 [01:19<00:00,  5.01it/s]\n",
            "[train epoch 15] loss: 0.482, acc: 0.833: 100% 1586/1586 [05:16<00:00,  5.02it/s]\n",
            "[valid epoch 15] loss: 0.450, acc: 0.833: 100% 397/397 [01:19<00:00,  5.01it/s]\n",
            "[train epoch 16] loss: 0.480, acc: 0.834: 100% 1586/1586 [05:15<00:00,  5.02it/s]\n",
            "[valid epoch 16] loss: 0.446, acc: 0.837: 100% 397/397 [01:19<00:00,  5.01it/s]\n",
            "[train epoch 17] loss: 0.480, acc: 0.834: 100% 1586/1586 [05:16<00:00,  5.02it/s]\n",
            "[valid epoch 17] loss: 0.448, acc: 0.833: 100% 397/397 [01:19<00:00,  5.01it/s]\n",
            "[train epoch 18] loss: 0.480, acc: 0.834: 100% 1586/1586 [05:15<00:00,  5.02it/s]\n",
            "[valid epoch 18] loss: 0.454, acc: 0.837: 100% 397/397 [01:19<00:00,  5.00it/s]\n",
            "[train epoch 19] loss: 0.481, acc: 0.834: 100% 1586/1586 [05:15<00:00,  5.02it/s]\n",
            "[valid epoch 19] loss: 0.443, acc: 0.833: 100% 397/397 [01:19<00:00,  5.01it/s]\n",
            "[train epoch 20] loss: 0.478, acc: 0.834: 100% 1586/1586 [05:15<00:00,  5.02it/s]\n",
            "[valid epoch 20] loss: 0.440, acc: 0.839: 100% 397/397 [01:19<00:00,  5.01it/s]\n",
            "[train epoch 21] loss: 0.478, acc: 0.834: 100% 1586/1586 [05:15<00:00,  5.02it/s]\n",
            "[valid epoch 21] loss: 0.442, acc: 0.833: 100% 397/397 [01:19<00:00,  5.02it/s]\n",
            "[train epoch 22] loss: 0.477, acc: 0.834: 100% 1586/1586 [05:15<00:00,  5.02it/s]\n",
            "[valid epoch 22] loss: 0.439, acc: 0.836: 100% 397/397 [01:19<00:00,  5.01it/s]\n",
            "[train epoch 23] loss: 0.477, acc: 0.834: 100% 1586/1586 [05:15<00:00,  5.02it/s]\n",
            "[valid epoch 23] loss: 0.457, acc: 0.833: 100% 397/397 [01:19<00:00,  5.01it/s]\n",
            "[train epoch 24] loss: 0.476, acc: 0.834: 100% 1586/1586 [05:15<00:00,  5.02it/s]\n",
            "[valid epoch 24] loss: 0.451, acc: 0.833: 100% 397/397 [01:19<00:00,  5.01it/s]\n",
            "[train epoch 25] loss: 0.476, acc: 0.834: 100% 1586/1586 [05:15<00:00,  5.02it/s]\n",
            "[valid epoch 25] loss: 0.438, acc: 0.836: 100% 397/397 [01:19<00:00,  5.01it/s]\n",
            "[train epoch 26] loss: 0.475, acc: 0.834: 100% 1586/1586 [05:15<00:00,  5.02it/s]\n",
            "[valid epoch 26] loss: 0.436, acc: 0.837: 100% 397/397 [01:19<00:00,  5.00it/s]\n",
            "[train epoch 27] loss: 0.474, acc: 0.834: 100% 1586/1586 [05:15<00:00,  5.02it/s]\n",
            "[valid epoch 27] loss: 0.439, acc: 0.833: 100% 397/397 [01:19<00:00,  5.01it/s]\n",
            "[train epoch 28] loss: 0.475, acc: 0.835: 100% 1586/1586 [05:15<00:00,  5.02it/s]\n",
            "[valid epoch 28] loss: 0.436, acc: 0.839: 100% 397/397 [01:19<00:00,  5.01it/s]\n",
            "[train epoch 29] loss: 0.474, acc: 0.834: 100% 1586/1586 [05:15<00:00,  5.02it/s]\n",
            "[valid epoch 29] loss: 0.438, acc: 0.839: 100% 397/397 [01:19<00:00,  5.01it/s]\n",
            "[train epoch 30] loss: 0.473, acc: 0.834: 100% 1586/1586 [05:15<00:00,  5.02it/s]\n",
            "[valid epoch 30] loss: 0.433, acc: 0.837: 100% 397/397 [01:19<00:00,  5.02it/s]\n",
            "[train epoch 31] loss: 0.472, acc: 0.834: 100% 1586/1586 [05:15<00:00,  5.02it/s]\n",
            "[valid epoch 31] loss: 0.435, acc: 0.839: 100% 397/397 [01:19<00:00,  5.00it/s]\n",
            "[train epoch 32] loss: 0.471, acc: 0.835: 100% 1586/1586 [05:15<00:00,  5.02it/s]\n",
            "[valid epoch 32] loss: 0.433, acc: 0.837: 100% 397/397 [01:19<00:00,  5.01it/s]\n",
            "[train epoch 33] loss: 0.471, acc: 0.835: 100% 1586/1586 [05:15<00:00,  5.02it/s]\n",
            "[valid epoch 33] loss: 0.433, acc: 0.837: 100% 397/397 [01:19<00:00,  5.01it/s]\n",
            "[train epoch 34] loss: 0.471, acc: 0.835: 100% 1586/1586 [05:15<00:00,  5.03it/s]\n",
            "[valid epoch 34] loss: 0.434, acc: 0.834: 100% 397/397 [01:19<00:00,  5.02it/s]\n",
            "[train epoch 35] loss: 0.472, acc: 0.834: 100% 1586/1586 [05:15<00:00,  5.02it/s]\n",
            "[valid epoch 35] loss: 0.434, acc: 0.837: 100% 397/397 [01:19<00:00,  5.01it/s]\n",
            "[train epoch 36] loss: 0.472, acc: 0.835: 100% 1586/1586 [05:15<00:00,  5.02it/s]\n",
            "[valid epoch 36] loss: 0.434, acc: 0.837: 100% 397/397 [01:19<00:00,  5.01it/s]\n",
            "[train epoch 37] loss: 0.470, acc: 0.835: 100% 1586/1586 [05:15<00:00,  5.02it/s]\n",
            "[valid epoch 37] loss: 0.433, acc: 0.839: 100% 397/397 [01:19<00:00,  5.01it/s]\n",
            "[train epoch 38] loss: 0.470, acc: 0.835: 100% 1586/1586 [05:15<00:00,  5.02it/s]\n",
            "[valid epoch 38] loss: 0.434, acc: 0.836: 100% 397/397 [01:19<00:00,  5.01it/s]\n",
            "[train epoch 39] loss: 0.471, acc: 0.835: 100% 1586/1586 [05:15<00:00,  5.02it/s]\n",
            "[valid epoch 39] loss: 0.432, acc: 0.837: 100% 397/397 [01:19<00:00,  5.01it/s]\n",
            "[train epoch 40] loss: 0.470, acc: 0.835: 100% 1586/1586 [05:15<00:00,  5.02it/s]\n",
            "[valid epoch 40] loss: 0.434, acc: 0.836: 100% 397/397 [01:19<00:00,  5.01it/s]\n",
            "[train epoch 41] loss: 0.469, acc: 0.835: 100% 1586/1586 [05:16<00:00,  5.02it/s]\n",
            "[valid epoch 41] loss: 0.433, acc: 0.836: 100% 397/397 [01:19<00:00,  5.00it/s]\n",
            "[train epoch 42] loss: 0.470, acc: 0.835: 100% 1586/1586 [05:16<00:00,  5.01it/s]\n",
            "[valid epoch 42] loss: 0.433, acc: 0.838: 100% 397/397 [01:19<00:00,  5.00it/s]\n",
            "[train epoch 43] loss: 0.470, acc: 0.835: 100% 1586/1586 [05:16<00:00,  5.01it/s]\n",
            "[valid epoch 43] loss: 0.432, acc: 0.838: 100% 397/397 [01:19<00:00,  5.00it/s]\n",
            "[train epoch 44] loss: 0.469, acc: 0.835: 100% 1586/1586 [05:16<00:00,  5.02it/s]\n",
            "[valid epoch 44] loss: 0.433, acc: 0.836: 100% 397/397 [01:19<00:00,  5.00it/s]\n",
            "[train epoch 45] loss: 0.469, acc: 0.834: 100% 1586/1586 [05:16<00:00,  5.02it/s]\n",
            "[valid epoch 45] loss: 0.432, acc: 0.838: 100% 397/397 [01:19<00:00,  5.01it/s]\n",
            "[train epoch 46] loss: 0.470, acc: 0.834: 100% 1586/1586 [05:15<00:00,  5.02it/s]\n",
            "[valid epoch 46] loss: 0.433, acc: 0.838: 100% 397/397 [01:19<00:00,  5.00it/s]\n",
            "[train epoch 47] loss: 0.470, acc: 0.835: 100% 1586/1586 [05:15<00:00,  5.02it/s]\n",
            "[valid epoch 47] loss: 0.434, acc: 0.838: 100% 397/397 [01:19<00:00,  5.00it/s]\n",
            "[train epoch 48] loss: 0.469, acc: 0.835: 100% 1586/1586 [05:16<00:00,  5.02it/s]\n",
            "[valid epoch 48] loss: 0.432, acc: 0.837: 100% 397/397 [01:19<00:00,  5.00it/s]\n",
            "[train epoch 49] loss: 0.469, acc: 0.835: 100% 1586/1586 [05:16<00:00,  5.02it/s]\n",
            "[valid epoch 49] loss: 0.432, acc: 0.838: 100% 397/397 [01:19<00:00,  5.00it/s]\n"
          ]
        }
      ]
    },
    {
      "cell_type": "code",
      "source": [
        "# save the model's weights to google drive\n",
        "#!cp /content/weights/model-9.pth /content/drive/MyDrive/Piloerection\n",
        "#!cp /content/class_indices.json /content/drive/MyDrive/Piloerection"
      ],
      "metadata": {
        "id": "_rrejCiZ2-aP"
      },
      "execution_count": null,
      "outputs": []
    },
    {
      "cell_type": "markdown",
      "source": [
        "### PREDICTION PART ###"
      ],
      "metadata": {
        "id": "Jm-Zaixlmtpg"
      }
    },
    {
      "cell_type": "code",
      "source": [
        "# Prepare for test\n",
        "# copy files to Colab local disk\n",
        "!mkdir -p /content/data/test/upload/\n",
        "!cp /content/drive/MyDrive/Piloerection/testData/testData.zip /content/data/test/upload/\n",
        "\n",
        "!unzip -uq '/content/data/test/upload/testData.zip' -d '/content/data/test/'\n",
        "\n",
        "# copy trained model weights to Colab local disk\n",
        "#!mkdir -p /content/data/model\n",
        "#!cp /content/drive/MyDrive/Piloerection/model/model-49.pth /content/data/model/\n",
        "\n",
        "# copy class indices to Colab local disk\n",
        "#!cp /content/drive/MyDrive/Piloerection/class_indices.json /content/data/"
      ],
      "metadata": {
        "id": "gOsnA5-bgNw-"
      },
      "execution_count": 6,
      "outputs": []
    },
    {
      "cell_type": "code",
      "source": [
        "!python /content/Piloerection/linux/predict.py\\\n",
        " --data_path='/content/data/test/frameImage/'\\\n",
        " --label_path='/content/data/test/file'\\\n",
        " --save_path='/content/data/prediction/'\\\n",
        " --weights='/content/weights/model-49.pth'\\\n",
        " --class_indices='/content/class_indices.json'\\\n",
        " --num_classes=3"
      ],
      "metadata": {
        "id": "PNPNSZWumUn9",
        "colab": {
          "base_uri": "https://localhost:8080/"
        },
        "outputId": "884c487f-b9c3-4993-bc5d-1813f8cdc1bf"
      },
      "execution_count": 8,
      "outputs": [
        {
          "output_type": "stream",
          "name": "stdout",
          "text": [
            "Current Progress: 1/884\n",
            "Time Spent of 1 Loop: 1.7763s\n",
            "Estimate Time Left: 00:26:8.512\n",
            "Current Progress: 501/884\n",
            "Time Spent of 1 Loop: 0.0153s\n",
            "Estimate Time Left: 00:00:5.861\n",
            "Prediction Accuracy of 028, Correct:846, Wrong:38, Accuracy: 0.957\n",
            "Current Progress: 1/1876\n",
            "Time Spent of 1 Loop: 0.0153s\n",
            "Estimate Time Left: 00:00:28.646\n",
            "Current Progress: 501/1876\n",
            "Time Spent of 1 Loop: 0.0133s\n",
            "Estimate Time Left: 00:00:18.32\n",
            "Current Progress: 1001/1876\n",
            "Time Spent of 1 Loop: 0.0158s\n",
            "Estimate Time Left: 00:00:13.83\n",
            "Current Progress: 1501/1876\n",
            "Time Spent of 1 Loop: 0.0125s\n",
            "Estimate Time Left: 00:00:4.672\n",
            "Prediction Accuracy of 070_l thigh, Correct:1876, Wrong:0, Accuracy: 1.0\n",
            "Current Progress: 1/1876\n",
            "Time Spent of 1 Loop: 0.0152s\n",
            "Estimate Time Left: 00:00:28.42\n",
            "Current Progress: 501/1876\n",
            "Time Spent of 1 Loop: 0.013s\n",
            "Estimate Time Left: 00:00:17.853\n",
            "Current Progress: 1001/1876\n",
            "Time Spent of 1 Loop: 0.0172s\n",
            "Estimate Time Left: 00:00:15.038\n",
            "Current Progress: 1501/1876\n",
            "Time Spent of 1 Loop: 0.0132s\n",
            "Estimate Time Left: 00:00:4.957\n",
            "Prediction Accuracy of 070_r thigh, Correct:1876, Wrong:0, Accuracy: 1.0\n",
            "Current Progress: 1/1876\n",
            "Time Spent of 1 Loop: 0.0158s\n",
            "Estimate Time Left: 00:00:29.681\n",
            "Current Progress: 501/1876\n",
            "Time Spent of 1 Loop: 0.0128s\n",
            "Estimate Time Left: 00:00:17.617\n",
            "Current Progress: 1001/1876\n",
            "Time Spent of 1 Loop: 0.0128s\n",
            "Estimate Time Left: 00:00:11.189\n",
            "Current Progress: 1501/1876\n",
            "Time Spent of 1 Loop: 0.0139s\n",
            "Estimate Time Left: 00:00:5.225\n",
            "Prediction Accuracy of 070_dom calf, Correct:1876, Wrong:0, Accuracy: 1.0\n",
            "Current Progress: 1/1876\n",
            "Time Spent of 1 Loop: 0.0151s\n",
            "Estimate Time Left: 00:00:28.222\n",
            "Current Progress: 501/1876\n",
            "Time Spent of 1 Loop: 0.0134s\n",
            "Estimate Time Left: 00:00:18.492\n",
            "Current Progress: 1001/1876\n",
            "Time Spent of 1 Loop: 0.0145s\n",
            "Estimate Time Left: 00:00:12.714\n",
            "Current Progress: 1501/1876\n",
            "Time Spent of 1 Loop: 0.0134s\n",
            "Estimate Time Left: 00:00:5.02\n",
            "Prediction Accuracy of 070_dom arm, Correct:1875, Wrong:1, Accuracy: 0.9995\n",
            "Current Progress: 1/865\n",
            "Time Spent of 1 Loop: 0.0141s\n",
            "Estimate Time Left: 00:00:12.141\n",
            "Current Progress: 501/865\n",
            "Time Spent of 1 Loop: 0.0195s\n",
            "Estimate Time Left: 00:00:7.108\n",
            "Prediction Accuracy of 033, Correct:857, Wrong:8, Accuracy: 0.9908\n",
            "Current Progress: 1/908\n",
            "Time Spent of 1 Loop: 0.015s\n",
            "Estimate Time Left: 00:00:13.579\n",
            "Current Progress: 501/908\n",
            "Time Spent of 1 Loop: 0.0184s\n",
            "Estimate Time Left: 00:00:7.485\n",
            "Prediction Accuracy of 024, Correct:893, Wrong:15, Accuracy: 0.9835\n",
            "Current Progress: 1/1745\n",
            "Time Spent of 1 Loop: 0.0147s\n",
            "Estimate Time Left: 00:00:25.656\n",
            "Current Progress: 501/1745\n",
            "Time Spent of 1 Loop: 0.0149s\n",
            "Estimate Time Left: 00:00:18.516\n",
            "Current Progress: 1001/1745\n",
            "Time Spent of 1 Loop: 0.0138s\n",
            "Estimate Time Left: 00:00:10.273\n",
            "Current Progress: 1501/1745\n",
            "Time Spent of 1 Loop: 0.0134s\n",
            "Estimate Time Left: 00:00:3.269\n",
            "Prediction Accuracy of 062_l thigh, Correct:1735, Wrong:10, Accuracy: 0.9943\n",
            "Current Progress: 1/1745\n",
            "Time Spent of 1 Loop: 0.0152s\n",
            "Estimate Time Left: 00:00:26.488\n",
            "Current Progress: 501/1745\n",
            "Time Spent of 1 Loop: 0.0146s\n",
            "Estimate Time Left: 00:00:18.18\n",
            "Current Progress: 1001/1745\n",
            "Time Spent of 1 Loop: 0.0127s\n",
            "Estimate Time Left: 00:00:9.47\n",
            "Current Progress: 1501/1745\n",
            "Time Spent of 1 Loop: 0.0147s\n",
            "Estimate Time Left: 00:00:3.591\n",
            "Prediction Accuracy of 062_r thigh, Correct:1739, Wrong:6, Accuracy: 0.9966\n",
            "Current Progress: 1/1745\n",
            "Time Spent of 1 Loop: 0.015s\n",
            "Estimate Time Left: 00:00:26.21\n",
            "Current Progress: 501/1745\n",
            "Time Spent of 1 Loop: 0.0155s\n",
            "Estimate Time Left: 00:00:19.231\n",
            "Current Progress: 1001/1745\n",
            "Time Spent of 1 Loop: 0.0139s\n",
            "Estimate Time Left: 00:00:10.329\n",
            "Current Progress: 1501/1745\n",
            "Time Spent of 1 Loop: 0.0146s\n",
            "Estimate Time Left: 00:00:3.558\n",
            "Prediction Accuracy of 062_dom calf, Correct:1719, Wrong:26, Accuracy: 0.9851\n",
            "Current Progress: 1/1745\n",
            "Time Spent of 1 Loop: 0.0158s\n",
            "Estimate Time Left: 00:00:27.477\n",
            "Current Progress: 501/1745\n",
            "Time Spent of 1 Loop: 0.0193s\n",
            "Estimate Time Left: 00:00:24.068\n",
            "Current Progress: 1001/1745\n",
            "Time Spent of 1 Loop: 0.014s\n",
            "Estimate Time Left: 00:00:10.398\n",
            "Current Progress: 1501/1745\n",
            "Time Spent of 1 Loop: 0.0146s\n",
            "Estimate Time Left: 00:00:3.559\n",
            "Prediction Accuracy of 062_dom arm, Correct:1725, Wrong:20, Accuracy: 0.9885\n"
          ]
        }
      ]
    }
  ]
}