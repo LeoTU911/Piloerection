{
  "nbformat": 4,
  "nbformat_minor": 0,
  "metadata": {
    "colab": {
      "provenance": [],
      "authorship_tag": "ABX9TyMLwUWn7wXHxVYk2MNOlJ6e",
      "include_colab_link": true
    },
    "kernelspec": {
      "name": "python3",
      "display_name": "Python 3"
    },
    "language_info": {
      "name": "python"
    },
    "gpuClass": "standard",
    "accelerator": "GPU"
  },
  "cells": [
    {
      "cell_type": "markdown",
      "metadata": {
        "id": "view-in-github",
        "colab_type": "text"
      },
      "source": [
        "<a href=\"https://colab.research.google.com/github/LeoTU911/Piloerection/blob/main/Piloerection.ipynb\" target=\"_parent\"><img src=\"https://colab.research.google.com/assets/colab-badge.svg\" alt=\"Open In Colab\"/></a>"
      ]
    },
    {
      "cell_type": "code",
      "execution_count": 1,
      "metadata": {
        "colab": {
          "base_uri": "https://localhost:8080/"
        },
        "id": "E7BJm0X0sA8K",
        "outputId": "edd8b2f5-c209-4a8e-8f00-3924c2261d89"
      },
      "outputs": [
        {
          "output_type": "stream",
          "name": "stdout",
          "text": [
            "Cloning into 'Piloerection'...\n",
            "remote: Enumerating objects: 32, done.\u001b[K\n",
            "remote: Counting objects: 100% (32/32), done.\u001b[K\n",
            "remote: Compressing objects: 100% (30/30), done.\u001b[K\n",
            "remote: Total 32 (delta 8), reused 0 (delta 0), pack-reused 0\u001b[K\n",
            "Unpacking objects: 100% (32/32), 23.14 KiB | 718.00 KiB/s, done.\n",
            "Mounted at /content/drive\n"
          ]
        }
      ],
      "source": [
        "# import code files on Github\n",
        "!git clone https://github.com/LeoTU911/Piloerection\n",
        "\n",
        "# import dataset from google drive\n",
        "from google.colab import drive\n",
        "drive.mount('/content/drive')"
      ]
    },
    {
      "cell_type": "code",
      "source": [
        "!unzip -uq '/content/drive/MyDrive/Piloerection/frameImage.zip' -d '/content/drive/MyDrive/Piloerection'"
      ],
      "metadata": {
        "id": "HDp7TtW-KOeU"
      },
      "execution_count": 2,
      "outputs": []
    },
    {
      "cell_type": "code",
      "source": [
        "!python /content/Piloerection/train.py --data-path='/content/drive/MyDrive/Piloerection/frameImage' --num_classes=3 --weights=''"
      ],
      "metadata": {
        "id": "9BgRTOPD4pyt",
        "colab": {
          "base_uri": "https://localhost:8080/"
        },
        "outputId": "10f621ee-86d3-4ee0-df7f-9142473bf3e4"
      },
      "execution_count": 5,
      "outputs": [
        {
          "output_type": "stream",
          "name": "stdout",
          "text": [
            "2023-04-17 17:16:50.202618: I tensorflow/core/platform/cpu_feature_guard.cc:182] This TensorFlow binary is optimized to use available CPU instructions in performance-critical operations.\n",
            "To enable the following instructions: AVX2 FMA, in other operations, rebuild TensorFlow with the appropriate compiler flags.\n",
            "2023-04-17 17:16:51.430264: W tensorflow/compiler/tf2tensorrt/utils/py_utils.cc:38] TF-TRT Warning: Could not find TensorRT\n",
            "26431 images were found in the dataset.\n",
            "21146 images for training.\n",
            "5285 images for validation.\n",
            "Using 2 dataloader workers every process\n",
            "training head.weight\n",
            "training head.bias\n",
            "[train epoch 0] loss: 0.578, acc: 0.787: 100% 2644/2644 [04:07<00:00, 10.68it/s]\n",
            "[valid epoch 0] loss: 0.475, acc: 0.816: 100% 661/661 [00:58<00:00, 11.32it/s]\n",
            "[train epoch 1] loss: 0.548, acc: 0.795: 100% 2644/2644 [03:53<00:00, 11.32it/s]\n",
            "[valid epoch 1] loss: 0.537, acc: 0.798: 100% 661/661 [00:58<00:00, 11.35it/s]\n",
            "[train epoch 2] loss: 0.534, acc: 0.793: 100% 2644/2644 [03:53<00:00, 11.34it/s]\n",
            "[valid epoch 2] loss: 0.497, acc: 0.823: 100% 661/661 [00:58<00:00, 11.32it/s]\n",
            "[train epoch 3] loss: 0.525, acc: 0.795: 100% 2644/2644 [03:53<00:00, 11.34it/s]\n",
            "[valid epoch 3] loss: 0.448, acc: 0.819: 100% 661/661 [00:58<00:00, 11.33it/s]\n",
            "[train epoch 4] loss: 0.509, acc: 0.797: 100% 2644/2644 [03:53<00:00, 11.35it/s]\n",
            "[valid epoch 4] loss: 0.470, acc: 0.814: 100% 661/661 [00:58<00:00, 11.35it/s]\n",
            "[train epoch 5] loss: 0.492, acc: 0.801: 100% 2644/2644 [03:53<00:00, 11.34it/s]\n",
            "[valid epoch 5] loss: 0.472, acc: 0.808: 100% 661/661 [00:58<00:00, 11.33it/s]\n",
            "[train epoch 6] loss: 0.485, acc: 0.803: 100% 2644/2644 [03:53<00:00, 11.35it/s]\n",
            "[valid epoch 6] loss: 0.444, acc: 0.821: 100% 661/661 [00:58<00:00, 11.38it/s]\n",
            "[train epoch 7] loss: 0.469, acc: 0.809: 100% 2644/2644 [03:52<00:00, 11.35it/s]\n",
            "[valid epoch 7] loss: 0.425, acc: 0.825: 100% 661/661 [00:58<00:00, 11.35it/s]\n",
            "[train epoch 8] loss: 0.460, acc: 0.815: 100% 2644/2644 [03:53<00:00, 11.30it/s]\n",
            "[valid epoch 8] loss: 0.433, acc: 0.824: 100% 661/661 [00:58<00:00, 11.34it/s]\n",
            "[train epoch 9] loss: 0.459, acc: 0.814: 100% 2644/2644 [03:53<00:00, 11.33it/s]\n",
            "[valid epoch 9] loss: 0.430, acc: 0.819: 100% 661/661 [00:58<00:00, 11.34it/s]\n"
          ]
        }
      ]
    },
    {
      "cell_type": "code",
      "source": [
        "# save the model's weights to google drive\n",
        "!cp /content/weights/model-9.pth /content/drive/MyDrive/Piloerection"
      ],
      "metadata": {
        "id": "_rrejCiZ2-aP"
      },
      "execution_count": 6,
      "outputs": []
    }
  ]
}