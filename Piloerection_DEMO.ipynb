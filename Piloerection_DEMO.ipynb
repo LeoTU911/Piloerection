{
  "nbformat": 4,
  "nbformat_minor": 0,
  "metadata": {
    "colab": {
      "provenance": [],
      "gpuType": "V100",
      "authorship_tag": "ABX9TyPyjEwhnN816J+/dVws3/wJ",
      "include_colab_link": true
    },
    "kernelspec": {
      "name": "python3",
      "display_name": "Python 3"
    },
    "language_info": {
      "name": "python"
    },
    "accelerator": "GPU"
  },
  "cells": [
    {
      "cell_type": "markdown",
      "metadata": {
        "id": "view-in-github",
        "colab_type": "text"
      },
      "source": [
        "<a href=\"https://colab.research.google.com/github/LeoTU911/Piloerection/blob/main/Piloerection_DEMO.ipynb\" target=\"_parent\"><img src=\"https://colab.research.google.com/assets/colab-badge.svg\" alt=\"Open In Colab\"/></a>"
      ]
    },
    {
      "cell_type": "markdown",
      "source": [
        "Piloerection Code Demonstrate"
      ],
      "metadata": {
        "id": "goBgTKVuXAjX"
      }
    },
    {
      "cell_type": "code",
      "execution_count": 1,
      "metadata": {
        "colab": {
          "base_uri": "https://localhost:8080/"
        },
        "id": "wAJfqh-oXAHT",
        "outputId": "f3e3386f-1f3d-4eb9-c0ca-fe49db50e039"
      },
      "outputs": [
        {
          "output_type": "stream",
          "name": "stdout",
          "text": [
            "Cloning into 'Piloerection'...\n",
            "remote: Enumerating objects: 227, done.\u001b[K\n",
            "remote: Counting objects: 100% (14/14), done.\u001b[K\n",
            "remote: Compressing objects: 100% (14/14), done.\u001b[K\n",
            "remote: Total 227 (delta 5), reused 0 (delta 0), pack-reused 213\u001b[K\n",
            "Receiving objects: 100% (227/227), 114.70 KiB | 6.75 MiB/s, done.\n",
            "Resolving deltas: 100% (120/120), done.\n",
            "Mounted at /content/drive\n"
          ]
        }
      ],
      "source": [
        "# import code files on Github\n",
        "!git clone https://github.com/LeoTU911/Piloerection\n",
        "\n",
        "# import dataset from google drive\n",
        "from google.colab import drive\n",
        "drive.mount('/content/drive')"
      ]
    },
    {
      "cell_type": "code",
      "source": [
        "# Copy data from the mounted Google Drive disk to Colab local disk\n",
        "!mkdir -p /content/data/upload/\n",
        "!cp /content/drive/MyDrive/Piloerection/demo/colab.zip /content/data/upload/\n",
        "\n",
        "!unzip -uq '/content/data/upload/colab.zip' -d '/content/data/upload/'\n",
        "\n",
        "!cp -r /content/data/upload/colab/train /content/data/\n",
        "!cp -r /content/data/upload/colab/test /content/data/"
      ],
      "metadata": {
        "id": "-jnq81PzXMdT"
      },
      "execution_count": 2,
      "outputs": []
    },
    {
      "cell_type": "code",
      "source": [
        "# train Model\n",
        "!python /content/Piloerection/train.py\\\n",
        " --data_path='/content/data/train/'\\\n",
        " --model_name='vit_base'\\\n",
        " --num_classes=3\\\n",
        " --weights=''\\\n",
        " --epochs=10\\\n",
        " --batch_size=32\\\n",
        " --save_best_weights='True'\\\n",
        " --optimizer='Adam'"
      ],
      "metadata": {
        "colab": {
          "base_uri": "https://localhost:8080/"
        },
        "id": "uj6EEeKQXy_K",
        "outputId": "4642feeb-7c5c-450a-d53c-97fa57202d20"
      },
      "execution_count": 3,
      "outputs": [
        {
          "output_type": "stream",
          "name": "stdout",
          "text": [
            "2023-09-25 22:10:33.212023: I tensorflow/core/platform/cpu_feature_guard.cc:182] This TensorFlow binary is optimized to use available CPU instructions in performance-critical operations.\n",
            "To enable the following instructions: AVX2 AVX512F FMA, in other operations, rebuild TensorFlow with the appropriate compiler flags.\n",
            "2023-09-25 22:10:34.246272: W tensorflow/compiler/tf2tensorrt/utils/py_utils.cc:38] TF-TRT Warning: Could not find TensorRT\n",
            "300 images were found in the dataset.\n",
            "240 images for training.\n",
            "60 images for validation.\n",
            "Using 2 dataloader workers every process\n",
            "train vit_base model\n",
            "training head.weight\n",
            "training head.bias\n",
            "[train epoch 0] loss: 1.026, acc: 0.475: 100% 8/8 [00:08<00:00,  1.07s/it]\n",
            "[valid epoch 0] loss: 0.728, acc: 1.000: 100% 2/2 [00:00<00:00,  3.85it/s]\n",
            "[train epoch 1] loss: 0.827, acc: 0.779: 100% 8/8 [00:01<00:00,  6.70it/s]\n",
            "[valid epoch 1] loss: 0.527, acc: 1.000: 100% 2/2 [00:00<00:00,  3.80it/s]\n",
            "[train epoch 2] loss: 0.735, acc: 0.725: 100% 8/8 [00:01<00:00,  6.69it/s]\n",
            "[valid epoch 2] loss: 0.452, acc: 1.000: 100% 2/2 [00:00<00:00,  3.67it/s]\n",
            "[train epoch 3] loss: 0.615, acc: 0.863: 100% 8/8 [00:01<00:00,  6.49it/s]\n",
            "[valid epoch 3] loss: 0.402, acc: 1.000: 100% 2/2 [00:00<00:00,  3.64it/s]\n",
            "[train epoch 4] loss: 0.583, acc: 0.850: 100% 8/8 [00:01<00:00,  5.79it/s]\n",
            "[valid epoch 4] loss: 0.314, acc: 1.000: 100% 2/2 [00:00<00:00,  2.09it/s]\n",
            "[train epoch 5] loss: 0.529, acc: 0.875: 100% 8/8 [00:02<00:00,  3.91it/s]\n",
            "[valid epoch 5] loss: 0.296, acc: 1.000: 100% 2/2 [00:00<00:00,  2.56it/s]\n",
            "[train epoch 6] loss: 0.503, acc: 0.904: 100% 8/8 [00:01<00:00,  6.38it/s]\n",
            "[valid epoch 6] loss: 0.284, acc: 1.000: 100% 2/2 [00:00<00:00,  3.72it/s]\n",
            "[train epoch 7] loss: 0.453, acc: 0.967: 100% 8/8 [00:01<00:00,  6.39it/s]\n",
            "[valid epoch 7] loss: 0.264, acc: 1.000: 100% 2/2 [00:00<00:00,  3.71it/s]\n",
            "[train epoch 8] loss: 0.444, acc: 0.950: 100% 8/8 [00:01<00:00,  6.54it/s]\n",
            "[valid epoch 8] loss: 0.256, acc: 1.000: 100% 2/2 [00:00<00:00,  3.66it/s]\n",
            "[train epoch 9] loss: 0.478, acc: 0.942: 100% 8/8 [00:01<00:00,  6.57it/s]\n",
            "[valid epoch 9] loss: 0.253, acc: 1.000: 100% 2/2 [00:00<00:00,  3.76it/s]\n",
            "Finished Training, The best accuracy rate is 1.0, which appears in the 0th epoch\n"
          ]
        }
      ]
    },
    {
      "cell_type": "code",
      "source": [
        "# Single model prediction\n",
        "!python /content/Piloerection/predict_SingleModel.py\\\n",
        " --data_path='/content/data/test/frameImage'\\\n",
        " --model_name='vit_base'\\\n",
        " --cal_acc='False'\\\n",
        " --label_path=''\\\n",
        " --save_path='/content/data/prediction/'\\\n",
        " --weights='/content/weights/vit_base-0.pth'\\\n",
        " --class_indices='/content/class_indices.json'\\\n",
        " --num_classes=3"
      ],
      "metadata": {
        "colab": {
          "base_uri": "https://localhost:8080/"
        },
        "id": "S4vGNrDAX8Vt",
        "outputId": "48c6c2e7-3803-4fa3-ea9d-a32b166ba51a"
      },
      "execution_count": 5,
      "outputs": [
        {
          "output_type": "stream",
          "name": "stdout",
          "text": [
            "now predict 111\n",
            "train vit_base model\n",
            "Current Progress: 1/100\n",
            "Time Spent of 1 Loop: 1.5461s\n",
            "Estimate Time Left: 00:02:33.063\n",
            "111 prediction finished. The result saved in /content/data/prediction/vit_base/predict_111_l thigh.csv\n"
          ]
        }
      ]
    },
    {
      "cell_type": "code",
      "source": [
        "# fusion model prediction\n",
        "# copy data from Google drive to Colab local disk\n",
        "# model weights\n",
        "!mkdir -p /content/data/test/model\n",
        "!mkdir -p /content/data/test/model/weights\n",
        "# AlexNet\n",
        "!cp /content/drive/MyDrive/Piloerection/model/AlexNet/AlexNet-47_0729.pth /content/data/test/model/weights/\n",
        "# ViT Large\n",
        "!cp /content/drive/MyDrive/Piloerection/model/ViT/vit_large-20_0727.pth /content/data/test/model/weights\n",
        "# ViT base\n",
        "!cp /content/drive/MyDrive/Piloerection/model/ViT/vit_base-29_0726.pth /content/data/test/model/weights\n",
        "# VGG19\n",
        "!cp /content/drive/MyDrive/Piloerection/model/vgg/vgg19-0_0731.pth /content/data/test/model/weights/\n",
        "# VGG16\n",
        "!cp /content/drive/MyDrive/Piloerection/model/vgg/vgg16-0_0803.pth /content/data/test/model/weights/\n",
        "# ResNet101\n",
        "!cp /content/drive/MyDrive/Piloerection/model/ResNet/resnet101-43_0803.pth /content/data/test/model/weights/\n",
        "# ResNet50\n",
        "!cp /content/drive/MyDrive/Piloerection/model/ResNet/resnet50-45_0801.pth /content/data/test/model/weights/\n",
        "\n",
        "# copy class indices to Colab local disk\n",
        "!cp /content/drive/MyDrive/Piloerection/model/class_indices.json /content/data/test/model/\n",
        "# copy models' predict weights to Colab local disk\n",
        "!cp /content/drive/MyDrive/Piloerection/model/model_weights_0805.csv /content/data/test/model/"
      ],
      "metadata": {
        "id": "blKi776AYHf4"
      },
      "execution_count": 6,
      "outputs": []
    },
    {
      "cell_type": "code",
      "source": [
        "# fusion model prediction\n",
        "!python /content/Piloerection/fusion_predict3.py\\\n",
        "  --data_path='/content/data/test/frameImage'\\\n",
        "  --cal_acc='False'\\\n",
        "  --models_predict_weights='/content/data/test/model/model_weights_0805.csv'\\\n",
        "  --save_path='/content/data/test/prediction'\\\n",
        "  --num_classes=3\\\n",
        "  --models_weights_path='/content/data/test/model/weights'\\\n",
        "  --class_indices='/content/data/test/model/class_indices.json'"
      ],
      "metadata": {
        "colab": {
          "base_uri": "https://localhost:8080/"
        },
        "id": "gm79fo9qYRCu",
        "outputId": "fc657b24-e0cc-4130-aff2-43f0ae67a598"
      },
      "execution_count": 7,
      "outputs": [
        {
          "output_type": "stream",
          "name": "stdout",
          "text": [
            "now predict 111\n",
            "Current Progress: 1/100\n",
            "Time Spent of 1 Loop: 1.7772s\n",
            "Estimate Time Left: 00:02:55.938\n",
            "111 prediction finished. The results saved in /content/data/test/prediction\n"
          ]
        }
      ]
    }
  ]
}