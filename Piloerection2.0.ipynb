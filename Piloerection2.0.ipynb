{
  "nbformat": 4,
  "nbformat_minor": 0,
  "metadata": {
    "colab": {
      "provenance": [],
      "gpuType": "V100",
      "authorship_tag": "ABX9TyM0KNjxcmZRN49phxFRCpUd",
      "include_colab_link": true
    },
    "kernelspec": {
      "name": "python3",
      "display_name": "Python 3"
    },
    "language_info": {
      "name": "python"
    },
    "gpuClass": "standard",
    "accelerator": "GPU"
  },
  "cells": [
    {
      "cell_type": "markdown",
      "metadata": {
        "id": "view-in-github",
        "colab_type": "text"
      },
      "source": [
        "<a href=\"https://colab.research.google.com/github/LeoTU911/Piloerection/blob/main/Piloerection2.0.ipynb\" target=\"_parent\"><img src=\"https://colab.research.google.com/assets/colab-badge.svg\" alt=\"Open In Colab\"/></a>"
      ]
    },
    {
      "cell_type": "code",
      "execution_count": 1,
      "metadata": {
        "colab": {
          "base_uri": "https://localhost:8080/"
        },
        "id": "E7BJm0X0sA8K",
        "outputId": "23d2fb00-05e8-416b-9b9b-d884e0fa4cd3"
      },
      "outputs": [
        {
          "output_type": "stream",
          "name": "stdout",
          "text": [
            "Cloning into 'Piloerection'...\n",
            "remote: Enumerating objects: 54, done.\u001b[K\n",
            "remote: Counting objects: 100% (54/54), done.\u001b[K\n",
            "remote: Compressing objects: 100% (52/52), done.\u001b[K\n",
            "remote: Total 54 (delta 19), reused 0 (delta 0), pack-reused 0\u001b[K\n",
            "Unpacking objects: 100% (54/54), 34.34 KiB | 1.63 MiB/s, done.\n",
            "Mounted at /content/drive\n"
          ]
        }
      ],
      "source": [
        "# import code files on Github\n",
        "!git clone https://github.com/LeoTU911/Piloerection\n",
        "\n",
        "# import dataset from google drive\n",
        "from google.colab import drive\n",
        "drive.mount('/content/drive')"
      ]
    },
    {
      "cell_type": "markdown",
      "source": [
        "### TRAINING PART ###"
      ],
      "metadata": {
        "id": "utcnuhaYtv6Q"
      }
    },
    {
      "cell_type": "code",
      "source": [
        "# Prepare for training\n",
        "# copy files to Colab local disk\n",
        "!mkdir -p /content/data/train/upload/\n",
        "!cp /content/drive/MyDrive/Piloerection/trainData/trainData.zip /content/data/train/upload/\n",
        "!unzip -uq '/content/data/train/upload/trainData.zip' -d '/content/data/train/'"
      ],
      "metadata": {
        "id": "h6iiSO-JwTHV"
      },
      "execution_count": null,
      "outputs": []
    },
    {
      "cell_type": "code",
      "source": [
        "!python /content/Piloerection/train.py\\\n",
        " --data-path='/content/data/train/frameImage'\\\n",
        " --num_classes=3\\\n",
        " --weights=''\\\n",
        " --epochs=50\\\n",
        " --batch-size=16"
      ],
      "metadata": {
        "id": "9BgRTOPD4pyt",
        "colab": {
          "base_uri": "https://localhost:8080/"
        },
        "outputId": "d660c10d-0744-48be-9aae-6c7c022417fc"
      },
      "execution_count": null,
      "outputs": [
        {
          "output_type": "stream",
          "name": "stdout",
          "text": [
            "2023-05-10 17:45:43.835193: I tensorflow/core/platform/cpu_feature_guard.cc:182] This TensorFlow binary is optimized to use available CPU instructions in performance-critical operations.\n",
            "To enable the following instructions: AVX2 FMA, in other operations, rebuild TensorFlow with the appropriate compiler flags.\n",
            "2023-05-10 17:45:45.182574: W tensorflow/compiler/tf2tensorrt/utils/py_utils.cc:38] TF-TRT Warning: Could not find TensorRT\n",
            "49810 images were found in the dataset.\n",
            "39849 images for training.\n",
            "9961 images for validation.\n",
            "Using 2 dataloader workers every process\n",
            "training head.weight\n",
            "training head.bias\n",
            "[train epoch 0] loss: 0.374, acc: 0.887: 100% 2491/2491 [1:07:24<00:00,  1.62s/it]\n",
            "[valid epoch 0] loss: 0.368, acc: 0.875: 100% 623/623 [16:25<00:00,  1.58s/it]\n",
            "[train epoch 1] loss: 0.359, acc: 0.888: 100% 2491/2491 [03:50<00:00, 10.81it/s]\n",
            "[valid epoch 1] loss: 0.363, acc: 0.889: 100% 623/623 [01:00<00:00, 10.28it/s]\n",
            "[train epoch 2] loss: 0.351, acc: 0.890: 100% 2491/2491 [03:53<00:00, 10.68it/s]\n",
            "[valid epoch 2] loss: 0.314, acc: 0.893: 100% 623/623 [00:59<00:00, 10.53it/s]\n",
            "[train epoch 3] loss: 0.345, acc: 0.890: 100% 2491/2491 [03:48<00:00, 10.89it/s]\n",
            "[valid epoch 3] loss: 0.328, acc: 0.894: 100% 623/623 [00:59<00:00, 10.46it/s]\n",
            "[train epoch 4] loss: 0.342, acc: 0.890: 100% 2491/2491 [03:44<00:00, 11.11it/s]\n",
            "[valid epoch 4] loss: 0.313, acc: 0.897: 100% 623/623 [00:58<00:00, 10.61it/s]\n",
            "[train epoch 5] loss: 0.339, acc: 0.890: 100% 2491/2491 [03:44<00:00, 11.08it/s]\n",
            "[valid epoch 5] loss: 0.300, acc: 0.898: 100% 623/623 [00:58<00:00, 10.63it/s]\n",
            "[train epoch 6] loss: 0.334, acc: 0.892: 100% 2491/2491 [03:44<00:00, 11.10it/s]\n",
            "[valid epoch 6] loss: 0.305, acc: 0.894: 100% 623/623 [00:58<00:00, 10.59it/s]\n",
            "[train epoch 7] loss: 0.332, acc: 0.893: 100% 2491/2491 [03:41<00:00, 11.24it/s]\n",
            "[valid epoch 7] loss: 0.303, acc: 0.899: 100% 623/623 [00:57<00:00, 10.88it/s]\n",
            "[train epoch 8] loss: 0.326, acc: 0.894: 100% 2491/2491 [03:40<00:00, 11.27it/s]\n",
            "[valid epoch 8] loss: 0.336, acc: 0.878: 100% 623/623 [00:55<00:00, 11.15it/s]\n",
            "[train epoch 9] loss: 0.325, acc: 0.893: 100% 2491/2491 [03:43<00:00, 11.17it/s]\n",
            "[valid epoch 9] loss: 0.297, acc: 0.905: 100% 623/623 [00:56<00:00, 11.11it/s]\n",
            "[train epoch 10] loss: 0.323, acc: 0.894: 100% 2491/2491 [03:42<00:00, 11.18it/s]\n",
            "[valid epoch 10] loss: 0.299, acc: 0.900: 100% 623/623 [00:56<00:00, 10.97it/s]\n",
            "[train epoch 11] loss: 0.320, acc: 0.895: 100% 2491/2491 [03:41<00:00, 11.25it/s]\n",
            "[valid epoch 11] loss: 0.300, acc: 0.899: 100% 623/623 [00:58<00:00, 10.73it/s]\n",
            "[train epoch 12] loss: 0.319, acc: 0.894: 100% 2491/2491 [03:41<00:00, 11.22it/s]\n",
            "[valid epoch 12] loss: 0.290, acc: 0.904: 100% 623/623 [00:57<00:00, 10.76it/s]\n",
            "[train epoch 13] loss: 0.320, acc: 0.894: 100% 2491/2491 [03:41<00:00, 11.22it/s]\n",
            "[valid epoch 13] loss: 0.294, acc: 0.903: 100% 623/623 [00:57<00:00, 10.74it/s]\n",
            "[train epoch 14] loss: 0.321, acc: 0.893: 100% 2491/2491 [03:41<00:00, 11.22it/s]\n",
            "[valid epoch 14] loss: 0.291, acc: 0.901: 100% 623/623 [00:57<00:00, 10.75it/s]\n",
            "[train epoch 15] loss: 0.315, acc: 0.895: 100% 2491/2491 [03:41<00:00, 11.22it/s]\n",
            "[valid epoch 15] loss: 0.283, acc: 0.901: 100% 623/623 [00:57<00:00, 10.78it/s]\n",
            "[train epoch 16] loss: 0.313, acc: 0.895: 100% 2491/2491 [03:42<00:00, 11.21it/s]\n",
            "[valid epoch 16] loss: 0.301, acc: 0.895: 100% 623/623 [00:56<00:00, 10.98it/s]\n",
            "[train epoch 17] loss: 0.314, acc: 0.896: 100% 2491/2491 [03:42<00:00, 11.18it/s]\n",
            "[valid epoch 17] loss: 0.279, acc: 0.901: 100% 623/623 [00:55<00:00, 11.22it/s]\n",
            "[train epoch 18] loss: 0.314, acc: 0.895: 100% 2491/2491 [03:44<00:00, 11.10it/s]\n",
            "[valid epoch 18] loss: 0.282, acc: 0.902: 100% 623/623 [00:56<00:00, 11.11it/s]\n",
            "[train epoch 19] loss: 0.311, acc: 0.896: 100% 2491/2491 [03:43<00:00, 11.12it/s]\n",
            "[valid epoch 19] loss: 0.277, acc: 0.901: 100% 623/623 [00:56<00:00, 11.02it/s]\n",
            "[train epoch 20] loss: 0.312, acc: 0.896: 100% 2491/2491 [03:43<00:00, 11.16it/s]\n",
            "[valid epoch 20] loss: 0.278, acc: 0.904: 100% 623/623 [00:57<00:00, 10.88it/s]\n",
            "[train epoch 21] loss: 0.310, acc: 0.896: 100% 2491/2491 [03:41<00:00, 11.25it/s]\n",
            "[valid epoch 21] loss: 0.284, acc: 0.901: 100% 623/623 [00:57<00:00, 10.78it/s]\n",
            "[train epoch 22] loss: 0.308, acc: 0.896: 100% 2491/2491 [03:41<00:00, 11.22it/s]\n",
            "[valid epoch 22] loss: 0.291, acc: 0.898: 100% 623/623 [00:57<00:00, 10.82it/s]\n",
            "[train epoch 23] loss: 0.308, acc: 0.898: 100% 2491/2491 [03:41<00:00, 11.23it/s]\n",
            "[valid epoch 23] loss: 0.274, acc: 0.904: 100% 623/623 [00:57<00:00, 10.82it/s]\n",
            "[train epoch 24] loss: 0.306, acc: 0.897: 100% 2491/2491 [03:42<00:00, 11.18it/s]\n",
            "[valid epoch 24] loss: 0.284, acc: 0.902: 100% 623/623 [00:57<00:00, 10.91it/s]\n",
            "[train epoch 25] loss: 0.304, acc: 0.898: 100% 2491/2491 [03:43<00:00, 11.12it/s]\n",
            "[valid epoch 25] loss: 0.273, acc: 0.905: 100% 623/623 [00:56<00:00, 11.00it/s]\n",
            "[train epoch 26] loss: 0.305, acc: 0.898: 100% 2491/2491 [03:43<00:00, 11.12it/s]\n",
            "[valid epoch 26] loss: 0.270, acc: 0.903: 100% 623/623 [00:56<00:00, 11.06it/s]\n",
            "[train epoch 27] loss: 0.303, acc: 0.896: 100% 2491/2491 [03:43<00:00, 11.16it/s]\n",
            "[valid epoch 27] loss: 0.282, acc: 0.900: 100% 623/623 [00:56<00:00, 11.08it/s]\n",
            "[train epoch 28] loss: 0.302, acc: 0.897: 100% 2491/2491 [03:43<00:00, 11.13it/s]\n",
            "[valid epoch 28] loss: 0.273, acc: 0.902: 100% 623/623 [00:56<00:00, 11.11it/s]\n",
            "[train epoch 29] loss: 0.301, acc: 0.897: 100% 2491/2491 [03:42<00:00, 11.21it/s]\n",
            "[valid epoch 29] loss: 0.271, acc: 0.904: 100% 623/623 [00:57<00:00, 10.83it/s]\n",
            "[train epoch 30] loss: 0.302, acc: 0.898: 100% 2491/2491 [03:43<00:00, 11.12it/s]\n",
            "[valid epoch 30] loss: 0.290, acc: 0.899: 100% 623/623 [00:57<00:00, 10.89it/s]\n",
            "[train epoch 31] loss: 0.300, acc: 0.898: 100% 2491/2491 [03:44<00:00, 11.10it/s]\n",
            "[valid epoch 31] loss: 0.275, acc: 0.903: 100% 623/623 [00:57<00:00, 10.80it/s]\n",
            "[train epoch 32] loss: 0.298, acc: 0.898: 100% 2491/2491 [03:44<00:00, 11.11it/s]\n",
            "[valid epoch 32] loss: 0.272, acc: 0.901: 100% 623/623 [03:45<00:00,  2.76it/s]\n",
            "[train epoch 33] loss: 0.297, acc: 0.898: 100% 2491/2491 [03:41<00:00, 11.25it/s]\n",
            "[valid epoch 33] loss: 0.270, acc: 0.902: 100% 623/623 [00:58<00:00, 10.72it/s]\n",
            "[train epoch 34] loss: 0.297, acc: 0.898: 100% 2491/2491 [03:42<00:00, 11.19it/s]\n",
            "[valid epoch 34] loss: 0.269, acc: 0.904: 100% 623/623 [00:57<00:00, 10.79it/s]\n",
            "[train epoch 35] loss: 0.297, acc: 0.898: 100% 2491/2491 [03:42<00:00, 11.18it/s]\n",
            "[valid epoch 35] loss: 0.270, acc: 0.904: 100% 623/623 [00:57<00:00, 10.80it/s]\n",
            "[train epoch 36] loss: 0.297, acc: 0.899: 100% 2491/2491 [03:42<00:00, 11.22it/s]\n",
            "[valid epoch 36] loss: 0.272, acc: 0.902: 100% 623/623 [00:55<00:00, 11.16it/s]\n",
            "[train epoch 37] loss: 0.295, acc: 0.898: 100% 2491/2491 [03:38<00:00, 11.39it/s]\n",
            "[valid epoch 37] loss: 0.268, acc: 0.905: 100% 623/623 [00:56<00:00, 11.08it/s]\n",
            "[train epoch 38] loss: 0.295, acc: 0.898: 100% 2491/2491 [03:38<00:00, 11.40it/s]\n",
            "[valid epoch 38] loss: 0.272, acc: 0.901: 100% 623/623 [00:57<00:00, 10.92it/s]\n",
            "[train epoch 39] loss: 0.295, acc: 0.899: 100% 2491/2491 [03:38<00:00, 11.39it/s]\n",
            "[valid epoch 39] loss: 0.270, acc: 0.905: 100% 623/623 [00:56<00:00, 11.01it/s]\n",
            "[train epoch 40] loss: 0.293, acc: 0.898: 100% 2491/2491 [03:37<00:00, 11.43it/s]\n",
            "[valid epoch 40] loss: 0.269, acc: 0.906: 100% 623/623 [00:55<00:00, 11.27it/s]\n",
            "[train epoch 41] loss: 0.294, acc: 0.899: 100% 2491/2491 [03:38<00:00, 11.42it/s]\n",
            "[valid epoch 41] loss: 0.269, acc: 0.902: 100% 623/623 [00:56<00:00, 10.96it/s]\n",
            "[train epoch 42] loss: 0.294, acc: 0.899: 100% 2491/2491 [03:38<00:00, 11.41it/s]\n",
            "[valid epoch 42] loss: 0.269, acc: 0.905: 100% 623/623 [00:56<00:00, 11.06it/s]\n",
            "[train epoch 43] loss: 0.295, acc: 0.900: 100% 2491/2491 [03:38<00:00, 11.42it/s]\n",
            "[valid epoch 43] loss: 0.268, acc: 0.902: 100% 623/623 [00:55<00:00, 11.23it/s]\n",
            "[train epoch 44] loss: 0.293, acc: 0.899: 100% 2491/2491 [03:39<00:00, 11.34it/s]\n",
            "[valid epoch 44] loss: 0.268, acc: 0.902: 100% 623/623 [00:56<00:00, 11.03it/s]\n",
            "[train epoch 45] loss: 0.294, acc: 0.898: 100% 2491/2491 [03:39<00:00, 11.36it/s]\n",
            "[valid epoch 45] loss: 0.267, acc: 0.902: 100% 623/623 [00:57<00:00, 10.83it/s]\n",
            "[train epoch 46] loss: 0.292, acc: 0.899: 100% 2491/2491 [03:39<00:00, 11.36it/s]\n",
            "[valid epoch 46] loss: 0.267, acc: 0.904: 100% 623/623 [00:56<00:00, 11.10it/s]\n",
            "[train epoch 47] loss: 0.293, acc: 0.898: 100% 2491/2491 [03:38<00:00, 11.40it/s]\n",
            "[valid epoch 47] loss: 0.266, acc: 0.903: 100% 623/623 [00:55<00:00, 11.21it/s]\n",
            "[train epoch 48] loss: 0.293, acc: 0.899: 100% 2491/2491 [03:38<00:00, 11.40it/s]\n",
            "[valid epoch 48] loss: 0.266, acc: 0.904: 100% 623/623 [00:56<00:00, 11.10it/s]\n",
            "[train epoch 49] loss: 0.293, acc: 0.898: 100% 2491/2491 [03:38<00:00, 11.43it/s]\n",
            "[valid epoch 49] loss: 0.266, acc: 0.903: 100% 623/623 [00:57<00:00, 10.93it/s]\n"
          ]
        }
      ]
    },
    {
      "cell_type": "code",
      "source": [
        "# save the model's weights to google drive\n",
        "#!cp /content/weights/model-9.pth /content/drive/MyDrive/Piloerection\n",
        "#!cp /content/class_indices.json /content/drive/MyDrive/Piloerection"
      ],
      "metadata": {
        "id": "_rrejCiZ2-aP"
      },
      "execution_count": null,
      "outputs": []
    },
    {
      "cell_type": "markdown",
      "source": [
        "### PREDICTION PART ###"
      ],
      "metadata": {
        "id": "Jm-Zaixlmtpg"
      }
    },
    {
      "cell_type": "code",
      "source": [
        "# Prepare for test\n",
        "# copy files to Colab local disk\n",
        "!mkdir -p /content/data/test/upload/\n",
        "!cp /content/drive/MyDrive/Piloerection/testData/testData.zip /content/data/test/upload/\n",
        "!unzip -uq '/content/data/test/upload/testData.zip' -d '/content/data/test/'\n",
        "\n",
        "# copy trained model weights to Colab local disk\n",
        "!mkdir -p /content/data/model\n",
        "!cp /content/drive/MyDrive/Piloerection/model/model-49.pth /content/data/model/\n",
        "\n",
        "# copy class indices to Colab local disk\n",
        "!cp /content/drive/MyDrive/Piloerection/class_indices.json /content/data/"
      ],
      "metadata": {
        "id": "gOsnA5-bgNw-"
      },
      "execution_count": 2,
      "outputs": []
    },
    {
      "cell_type": "code",
      "source": [
        "!python /content/Piloerection/predict.py\\\n",
        " --data_path='/content/data/test/frameImage/'\\\n",
        " --label_path='/content/data/test/file'\\\n",
        " --save_path='/content/data/prediction/'\\\n",
        " --weights='/content/data/model/model-49.pth'\\\n",
        " --class_indices='/content/data/class_indices.json'\\\n",
        " --num_classes=3"
      ],
      "metadata": {
        "id": "PNPNSZWumUn9",
        "colab": {
          "base_uri": "https://localhost:8080/"
        },
        "outputId": "685b0f7b-e95f-43da-bea2-8343f4e1de0a"
      },
      "execution_count": 14,
      "outputs": [
        {
          "output_type": "stream",
          "name": "stdout",
          "text": [
            "Current Progress: 1/1876\n",
            "Time Spent of 1 Loop: 7.9222s\n",
            "Estimate Time Left: 04:247:34.145\n",
            "Current Progress: 501/1876\n",
            "Time Spent of 1 Loop: 0.0135s\n",
            "Estimate Time Left: 00:00:18.543\n",
            "Current Progress: 1001/1876\n",
            "Time Spent of 1 Loop: 0.0146s\n",
            "Estimate Time Left: 00:00:12.818\n",
            "Current Progress: 1501/1876\n",
            "Time Spent of 1 Loop: 0.014s\n",
            "Estimate Time Left: 00:00:5.253\n",
            "Prediction Accuracy of 070_r thigh, Correct:1876, Wrong:0, Accuracy: 1.0\n",
            "Current Progress: 1/1876\n",
            "Time Spent of 1 Loop: 0.0164s\n",
            "Estimate Time Left: 00:00:30.69\n",
            "Current Progress: 501/1876\n",
            "Time Spent of 1 Loop: 0.0167s\n",
            "Estimate Time Left: 00:00:22.911\n",
            "Current Progress: 1001/1876\n",
            "Time Spent of 1 Loop: 0.0159s\n",
            "Estimate Time Left: 00:00:13.875\n",
            "Current Progress: 1501/1876\n",
            "Time Spent of 1 Loop: 0.02s\n",
            "Estimate Time Left: 00:00:7.519\n",
            "Prediction Accuracy of 070_dom arm, Correct:1875, Wrong:1, Accuracy: 0.9995\n",
            "Current Progress: 1/1876\n",
            "Time Spent of 1 Loop: 0.0158s\n",
            "Estimate Time Left: 00:00:29.695\n",
            "Current Progress: 501/1876\n",
            "Time Spent of 1 Loop: 0.0197s\n",
            "Estimate Time Left: 00:00:27.019\n",
            "Current Progress: 1001/1876\n",
            "Time Spent of 1 Loop: 0.0139s\n",
            "Estimate Time Left: 00:00:12.176\n",
            "Current Progress: 1501/1876\n",
            "Time Spent of 1 Loop: 0.0143s\n",
            "Estimate Time Left: 00:00:5.373\n",
            "Prediction Accuracy of 070_l thigh, Correct:1876, Wrong:0, Accuracy: 1.0\n",
            "Current Progress: 1/1876\n",
            "Time Spent of 1 Loop: 0.0161s\n",
            "Estimate Time Left: 00:00:30.188\n",
            "Current Progress: 501/1876\n",
            "Time Spent of 1 Loop: 0.0154s\n",
            "Estimate Time Left: 00:00:21.155\n",
            "Current Progress: 1001/1876\n",
            "Time Spent of 1 Loop: 0.0223s\n",
            "Estimate Time Left: 00:00:19.53\n",
            "Current Progress: 1501/1876\n",
            "Time Spent of 1 Loop: 0.0149s\n",
            "Estimate Time Left: 00:00:5.579\n",
            "Prediction Accuracy of 070_dom calf, Correct:1876, Wrong:0, Accuracy: 1.0\n",
            "Current Progress: 1/884\n",
            "Time Spent of 1 Loop: 0.0226s\n",
            "Estimate Time Left: 00:00:19.944\n",
            "Current Progress: 501/884\n",
            "Time Spent of 1 Loop: 0.0139s\n",
            "Estimate Time Left: 00:00:5.334\n",
            "Prediction Accuracy of 028, Correct:839, Wrong:45, Accuracy: 0.9491\n",
            "Current Progress: 1/908\n",
            "Time Spent of 1 Loop: 0.0238s\n",
            "Estimate Time Left: 00:00:21.613\n",
            "Current Progress: 501/908\n",
            "Time Spent of 1 Loop: 0.0144s\n",
            "Estimate Time Left: 00:00:5.867\n",
            "Prediction Accuracy of 024, Correct:893, Wrong:15, Accuracy: 0.9835\n",
            "Current Progress: 1/865\n",
            "Time Spent of 1 Loop: 0.024s\n",
            "Estimate Time Left: 00:00:20.777\n",
            "Current Progress: 501/865\n",
            "Time Spent of 1 Loop: 0.0143s\n",
            "Estimate Time Left: 00:00:5.212\n",
            "Prediction Accuracy of 033, Correct:857, Wrong:8, Accuracy: 0.9908\n",
            "Traceback (most recent call last):\n",
            "  File \"/content/Piloerection/predict.py\", line 227, in <module>\n",
            "    main(opt)\n",
            "  File \"/content/Piloerection/predict.py\", line 204, in main\n",
            "    calAccuracy(predictFile = save_name, LabelFile = labelFile, name = videoFile)\n",
            "  File \"/content/Piloerection/predict.py\", line 113, in calAccuracy\n",
            "    label   = pd.read_csv(LabelFile)\n",
            "  File \"/usr/local/lib/python3.10/dist-packages/pandas/util/_decorators.py\", line 211, in wrapper\n",
            "    return func(*args, **kwargs)\n",
            "  File \"/usr/local/lib/python3.10/dist-packages/pandas/util/_decorators.py\", line 331, in wrapper\n",
            "    return func(*args, **kwargs)\n",
            "  File \"/usr/local/lib/python3.10/dist-packages/pandas/io/parsers/readers.py\", line 950, in read_csv\n",
            "    return _read(filepath_or_buffer, kwds)\n",
            "  File \"/usr/local/lib/python3.10/dist-packages/pandas/io/parsers/readers.py\", line 605, in _read\n",
            "    parser = TextFileReader(filepath_or_buffer, **kwds)\n",
            "  File \"/usr/local/lib/python3.10/dist-packages/pandas/io/parsers/readers.py\", line 1442, in __init__\n",
            "    self._engine = self._make_engine(f, self.engine)\n",
            "  File \"/usr/local/lib/python3.10/dist-packages/pandas/io/parsers/readers.py\", line 1735, in _make_engine\n",
            "    self.handles = get_handle(\n",
            "  File \"/usr/local/lib/python3.10/dist-packages/pandas/io/common.py\", line 856, in get_handle\n",
            "    handle = open(\n",
            "FileNotFoundError: [Errno 2] No such file or directory: '/content/data/test/file/1-grid/.ipynb_checkpoints_.csv'\n"
          ]
        }
      ]
    }
  ]
}